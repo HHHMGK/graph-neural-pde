{
 "cells": [
  {
   "cell_type": "code",
   "execution_count": 1,
   "metadata": {},
   "outputs": [],
   "source": [
    "import torch\n",
    "from torch_geometric.nn import GCNConv, ChebConv  # noqa\n",
    "import time\n",
    "import networkx as nx\n",
    "import os\n",
    "import sys\n",
    "import matplotlib.pyplot as plt\n",
    "import numpy as np\n",
    "module_path = os.path.abspath(os.path.join('../src'))\n",
    "if module_path not in sys.path:\n",
    "    sys.path.append(module_path)\n",
    "from importlib import reload\n",
    "from best_params import best_params_dict #, default_args\n",
    "import data as dt"
   ]
  },
  {
   "cell_type": "code",
   "execution_count": 2,
   "metadata": {},
   "outputs": [],
   "source": [
    "%matplotlib inline"
   ]
  },
  {
   "cell_type": "code",
   "execution_count": 3,
   "metadata": {},
   "outputs": [
    {
     "data": {
      "text/plain": [
       "<module 'data' from '/home/huy/graph-neural-pde/src/data.py'>"
      ]
     },
     "execution_count": 3,
     "metadata": {},
     "output_type": "execute_result"
    }
   ],
   "source": [
    "reload(dt)"
   ]
  },
  {
   "cell_type": "code",
   "execution_count": 4,
   "metadata": {},
   "outputs": [],
   "source": [
    "from GNN import GNN\n",
    "from run_GNN import get_optimizer, train, test"
   ]
  },
  {
   "cell_type": "code",
   "execution_count": 5,
   "metadata": {},
   "outputs": [],
   "source": [
    "device = torch.device('cuda' if torch.cuda.is_available() else 'cpu')\n",
    "# opt = {'self_loop_weight': 1, 'leaky_relu_slope': 0.2, 'heads': 2, 'K': 10,\n",
    "#         'attention_norm_idx': 0, 'simple': True, 'alpha': 0, 'alpha_dim': 'sc', 'beta_dim': 'sc',\n",
    "#         'hidden_dim': 64, 'block': 'attention', 'function': 'laplacian', 'alpha_sigmoid': True, 'augment': False, 'adjoint': False,\n",
    "#         'tol_scale': 70, 'time': 20, 'input_dropout': 0.5, 'dropout': 0.2, 'method': 'dopri5', 'optimizer':'adam', 'lr':0.008,\n",
    "#         'decay':0.007, 'epoch':30, 'kinetic_energy':None, 'jacobian_norm2':None, 'total_deriv':None, 'directional_penalty':None}\n",
    "best_opt = best_params_dict['Cora']\n",
    "opt = { **best_opt}"
   ]
  },
  {
   "cell_type": "code",
   "execution_count": 6,
   "metadata": {},
   "outputs": [
    {
     "name": "stdout",
     "output_type": "stream",
     "text": [
      "2485 10138\n"
     ]
    },
    {
     "name": "stderr",
     "output_type": "stream",
     "text": [
      "/home/huy/miniconda3/envs/grand/lib/python3.11/site-packages/torch_geometric/data/in_memory_dataset.py:300: UserWarning: It is not recommended to directly access the internal storage format `data` of an 'InMemoryDataset'. If you are absolutely certain what you are doing, access the internal storage via `InMemoryDataset._data` instead to suppress this warning. Alternatively, you can access stacked individual attributes of every graph via `dataset.{attr_name}`.\n",
      "  warnings.warn(msg)\n"
     ]
    }
   ],
   "source": [
    "# dataset = dt.get_dataset('Cora', '../data', use_lcc=True)\n",
    "dataset = dt.get_dataset(opt, '../data', opt['not_lcc'])\n",
    "# dataset = dt.get_dataset({'dataset':'Cora', 'rewiring' : None}, '/content/graph-neural-pde/data', use_lcc=True) \n",
    "print(dataset.data.num_nodes, dataset.data.num_edges)"
   ]
  },
  {
   "cell_type": "code",
   "execution_count": 7,
   "metadata": {},
   "outputs": [],
   "source": [
    "model, dat = GNN(opt, dataset, device).to(device), dataset.data.to(device)"
   ]
  },
  {
   "cell_type": "code",
   "execution_count": 8,
   "metadata": {},
   "outputs": [],
   "source": [
    "parameters = [p for p in model.parameters() if p.requires_grad]\n",
    "optimizer = get_optimizer(opt['optimizer'], parameters, lr=opt['lr'], weight_decay=opt['decay'])"
   ]
  },
  {
   "cell_type": "code",
   "execution_count": 9,
   "metadata": {
    "jupyter": {
     "outputs_hidden": true
    }
   },
   "outputs": [
    {
     "name": "stderr",
     "output_type": "stream",
     "text": [
      "/home/huy/miniconda3/envs/grand/lib/python3.11/site-packages/torchdiffeq/_impl/misc.py:11: UserWarning: Dopri5Solver: Unexpected arguments {'step_size': 1}\n",
      "  warnings.warn('{}: Unexpected arguments {}'.format(solver.__class__.__name__, unused_kwargs))\n"
     ]
    },
    {
     "name": "stdout",
     "output_type": "stream",
     "text": [
      "Epoch: 001, Runtime 0.993464, Loss nan, forward nfe 50, backward nfe 0, Train: 0.0000, Val: 0.0000, Test: 0.0000\n",
      "best val accuracy 0.000000 with test accuracy 0.000000 at epoch 0\n",
      "Epoch: 002, Runtime 0.138441, Loss nan, forward nfe 150, backward nfe 0, Train: 0.0000, Val: 0.0000, Test: 0.0000\n",
      "best val accuracy 0.000000 with test accuracy 0.000000 at epoch 0\n",
      "Epoch: 003, Runtime 0.136540, Loss nan, forward nfe 250, backward nfe 0, Train: 0.0000, Val: 0.0000, Test: 0.0000\n",
      "best val accuracy 0.000000 with test accuracy 0.000000 at epoch 0\n",
      "Epoch: 004, Runtime 0.132594, Loss nan, forward nfe 356, backward nfe 0, Train: 0.0000, Val: 0.0000, Test: 0.0000\n",
      "best val accuracy 0.000000 with test accuracy 0.000000 at epoch 0\n",
      "Epoch: 005, Runtime 0.130278, Loss nan, forward nfe 462, backward nfe 0, Train: 0.0000, Val: 0.0000, Test: 0.0000\n",
      "best val accuracy 0.000000 with test accuracy 0.000000 at epoch 0\n",
      "Epoch: 006, Runtime 0.131240, Loss nan, forward nfe 568, backward nfe 0, Train: 0.0000, Val: 0.0000, Test: 0.0000\n",
      "best val accuracy 0.000000 with test accuracy 0.000000 at epoch 0\n",
      "Epoch: 007, Runtime 0.123894, Loss nan, forward nfe 674, backward nfe 0, Train: 0.0000, Val: 0.0000, Test: 0.0000\n",
      "best val accuracy 0.000000 with test accuracy 0.000000 at epoch 0\n",
      "Epoch: 008, Runtime 0.125757, Loss nan, forward nfe 774, backward nfe 0, Train: 0.0000, Val: 0.0000, Test: 0.0000\n",
      "best val accuracy 0.000000 with test accuracy 0.000000 at epoch 0\n",
      "Epoch: 009, Runtime 0.112679, Loss nan, forward nfe 862, backward nfe 0, Train: 0.0000, Val: 0.0000, Test: 0.0000\n",
      "best val accuracy 0.000000 with test accuracy 0.000000 at epoch 0\n",
      "Epoch: 010, Runtime 0.111823, Loss nan, forward nfe 950, backward nfe 0, Train: 0.0000, Val: 0.0000, Test: 0.0000\n",
      "best val accuracy 0.000000 with test accuracy 0.000000 at epoch 0\n",
      "Epoch: 011, Runtime 0.114211, Loss nan, forward nfe 1038, backward nfe 0, Train: 0.0000, Val: 0.0000, Test: 0.0000\n",
      "best val accuracy 0.000000 with test accuracy 0.000000 at epoch 0\n",
      "Epoch: 012, Runtime 0.127755, Loss nan, forward nfe 1138, backward nfe 0, Train: 0.0000, Val: 0.0000, Test: 0.0000\n",
      "best val accuracy 0.000000 with test accuracy 0.000000 at epoch 0\n",
      "Epoch: 013, Runtime 0.112998, Loss nan, forward nfe 1226, backward nfe 0, Train: 0.0000, Val: 0.0000, Test: 0.0000\n",
      "best val accuracy 0.000000 with test accuracy 0.000000 at epoch 0\n",
      "Epoch: 014, Runtime 0.114636, Loss nan, forward nfe 1314, backward nfe 0, Train: 0.0000, Val: 0.0000, Test: 0.0000\n",
      "best val accuracy 0.000000 with test accuracy 0.000000 at epoch 0\n",
      "Epoch: 015, Runtime 0.122010, Loss nan, forward nfe 1402, backward nfe 0, Train: 0.0000, Val: 0.0000, Test: 0.0000\n",
      "best val accuracy 0.000000 with test accuracy 0.000000 at epoch 0\n",
      "Epoch: 016, Runtime 0.118756, Loss nan, forward nfe 1496, backward nfe 0, Train: 0.0000, Val: 0.0000, Test: 0.0000\n",
      "best val accuracy 0.000000 with test accuracy 0.000000 at epoch 0\n",
      "Epoch: 017, Runtime 0.119972, Loss nan, forward nfe 1590, backward nfe 0, Train: 0.0000, Val: 0.0000, Test: 0.0000\n",
      "best val accuracy 0.000000 with test accuracy 0.000000 at epoch 0\n",
      "Epoch: 018, Runtime 0.118610, Loss nan, forward nfe 1684, backward nfe 0, Train: 0.0000, Val: 0.0000, Test: 0.0000\n",
      "best val accuracy 0.000000 with test accuracy 0.000000 at epoch 0\n",
      "Epoch: 019, Runtime 0.121259, Loss nan, forward nfe 1778, backward nfe 0, Train: 0.0000, Val: 0.0000, Test: 0.0000\n",
      "best val accuracy 0.000000 with test accuracy 0.000000 at epoch 0\n",
      "Epoch: 020, Runtime 0.119855, Loss nan, forward nfe 1872, backward nfe 0, Train: 0.0000, Val: 0.0000, Test: 0.0000\n",
      "best val accuracy 0.000000 with test accuracy 0.000000 at epoch 0\n",
      "Epoch: 021, Runtime 0.121248, Loss nan, forward nfe 1966, backward nfe 0, Train: 0.0000, Val: 0.0000, Test: 0.0000\n",
      "best val accuracy 0.000000 with test accuracy 0.000000 at epoch 0\n",
      "Epoch: 022, Runtime 0.117680, Loss nan, forward nfe 2060, backward nfe 0, Train: 0.0000, Val: 0.0000, Test: 0.0000\n",
      "best val accuracy 0.000000 with test accuracy 0.000000 at epoch 0\n",
      "Epoch: 023, Runtime 0.118928, Loss nan, forward nfe 2154, backward nfe 0, Train: 0.0000, Val: 0.0000, Test: 0.0000\n",
      "best val accuracy 0.000000 with test accuracy 0.000000 at epoch 0\n",
      "Epoch: 024, Runtime 0.120679, Loss nan, forward nfe 2254, backward nfe 0, Train: 0.0000, Val: 0.0000, Test: 0.0000\n",
      "best val accuracy 0.000000 with test accuracy 0.000000 at epoch 0\n",
      "Epoch: 025, Runtime 0.122298, Loss nan, forward nfe 2354, backward nfe 0, Train: 0.0000, Val: 0.0000, Test: 0.0000\n",
      "best val accuracy 0.000000 with test accuracy 0.000000 at epoch 0\n",
      "Epoch: 026, Runtime 0.122966, Loss nan, forward nfe 2454, backward nfe 0, Train: 0.0000, Val: 0.0000, Test: 0.0000\n",
      "best val accuracy 0.000000 with test accuracy 0.000000 at epoch 0\n",
      "Epoch: 027, Runtime 0.120186, Loss nan, forward nfe 2554, backward nfe 0, Train: 0.0000, Val: 0.0000, Test: 0.0000\n",
      "best val accuracy 0.000000 with test accuracy 0.000000 at epoch 0\n",
      "Epoch: 028, Runtime 0.120868, Loss nan, forward nfe 2654, backward nfe 0, Train: 0.0000, Val: 0.0000, Test: 0.0000\n",
      "best val accuracy 0.000000 with test accuracy 0.000000 at epoch 0\n",
      "Epoch: 029, Runtime 0.120848, Loss nan, forward nfe 2754, backward nfe 0, Train: 0.0000, Val: 0.0000, Test: 0.0000\n",
      "best val accuracy 0.000000 with test accuracy 0.000000 at epoch 0\n",
      "Epoch: 030, Runtime 0.119112, Loss nan, forward nfe 2854, backward nfe 0, Train: 0.0000, Val: 0.0000, Test: 0.0000\n",
      "best val accuracy 0.000000 with test accuracy 0.000000 at epoch 0\n",
      "Epoch: 031, Runtime 0.112686, Loss nan, forward nfe 2954, backward nfe 0, Train: 0.0000, Val: 0.0000, Test: 0.0000\n",
      "best val accuracy 0.000000 with test accuracy 0.000000 at epoch 0\n",
      "Epoch: 032, Runtime 0.111530, Loss nan, forward nfe 3042, backward nfe 0, Train: 0.0000, Val: 0.0000, Test: 0.0000\n",
      "best val accuracy 0.000000 with test accuracy 0.000000 at epoch 0\n",
      "Epoch: 033, Runtime 0.117048, Loss nan, forward nfe 3130, backward nfe 0, Train: 0.0000, Val: 0.0000, Test: 0.0000\n",
      "best val accuracy 0.000000 with test accuracy 0.000000 at epoch 0\n",
      "Epoch: 034, Runtime 0.113335, Loss nan, forward nfe 3218, backward nfe 0, Train: 0.0000, Val: 0.0000, Test: 0.0000\n",
      "best val accuracy 0.000000 with test accuracy 0.000000 at epoch 0\n",
      "Epoch: 035, Runtime 0.100306, Loss nan, forward nfe 3294, backward nfe 0, Train: 0.0000, Val: 0.0000, Test: 0.0000\n",
      "best val accuracy 0.000000 with test accuracy 0.000000 at epoch 0\n",
      "Epoch: 036, Runtime 0.098642, Loss nan, forward nfe 3370, backward nfe 0, Train: 0.0000, Val: 0.0000, Test: 0.0000\n",
      "best val accuracy 0.000000 with test accuracy 0.000000 at epoch 0\n",
      "Epoch: 037, Runtime 0.098046, Loss nan, forward nfe 3446, backward nfe 0, Train: 0.0000, Val: 0.0000, Test: 0.0000\n",
      "best val accuracy 0.000000 with test accuracy 0.000000 at epoch 0\n",
      "Epoch: 038, Runtime 0.099735, Loss nan, forward nfe 3522, backward nfe 0, Train: 0.0000, Val: 0.0000, Test: 0.0000\n",
      "best val accuracy 0.000000 with test accuracy 0.000000 at epoch 0\n",
      "Epoch: 039, Runtime 0.104133, Loss nan, forward nfe 3598, backward nfe 0, Train: 0.0000, Val: 0.0000, Test: 0.0000\n",
      "best val accuracy 0.000000 with test accuracy 0.000000 at epoch 0\n",
      "Epoch: 040, Runtime 0.106279, Loss nan, forward nfe 3680, backward nfe 0, Train: 0.0000, Val: 0.0000, Test: 0.0000\n",
      "best val accuracy 0.000000 with test accuracy 0.000000 at epoch 0\n",
      "Epoch: 041, Runtime 0.104131, Loss nan, forward nfe 3762, backward nfe 0, Train: 0.0000, Val: 0.0000, Test: 0.0000\n",
      "best val accuracy 0.000000 with test accuracy 0.000000 at epoch 0\n",
      "Epoch: 042, Runtime 0.104708, Loss nan, forward nfe 3844, backward nfe 0, Train: 0.0000, Val: 0.0000, Test: 0.0000\n",
      "best val accuracy 0.000000 with test accuracy 0.000000 at epoch 0\n",
      "Epoch: 043, Runtime 0.106060, Loss nan, forward nfe 3926, backward nfe 0, Train: 0.0000, Val: 0.0000, Test: 0.0000\n",
      "best val accuracy 0.000000 with test accuracy 0.000000 at epoch 0\n",
      "Epoch: 044, Runtime 0.108730, Loss nan, forward nfe 4014, backward nfe 0, Train: 0.0000, Val: 0.0000, Test: 0.0000\n",
      "best val accuracy 0.000000 with test accuracy 0.000000 at epoch 0\n",
      "Epoch: 045, Runtime 0.109018, Loss nan, forward nfe 4102, backward nfe 0, Train: 0.0000, Val: 0.0000, Test: 0.0000\n",
      "best val accuracy 0.000000 with test accuracy 0.000000 at epoch 0\n",
      "Epoch: 046, Runtime 0.109289, Loss nan, forward nfe 4190, backward nfe 0, Train: 0.0000, Val: 0.0000, Test: 0.0000\n",
      "best val accuracy 0.000000 with test accuracy 0.000000 at epoch 0\n",
      "Epoch: 047, Runtime 0.109222, Loss nan, forward nfe 4278, backward nfe 0, Train: 0.0000, Val: 0.0000, Test: 0.0000\n",
      "best val accuracy 0.000000 with test accuracy 0.000000 at epoch 0\n",
      "Epoch: 048, Runtime 0.110588, Loss nan, forward nfe 4366, backward nfe 0, Train: 0.0000, Val: 0.0000, Test: 0.0000\n",
      "best val accuracy 0.000000 with test accuracy 0.000000 at epoch 0\n",
      "Epoch: 049, Runtime 0.113886, Loss nan, forward nfe 4454, backward nfe 0, Train: 0.0000, Val: 0.0000, Test: 0.0000\n",
      "best val accuracy 0.000000 with test accuracy 0.000000 at epoch 0\n",
      "Epoch: 050, Runtime 0.114228, Loss nan, forward nfe 4542, backward nfe 0, Train: 0.0000, Val: 0.0000, Test: 0.0000\n",
      "best val accuracy 0.000000 with test accuracy 0.000000 at epoch 0\n",
      "Epoch: 051, Runtime 0.113890, Loss nan, forward nfe 4630, backward nfe 0, Train: 0.0000, Val: 0.0000, Test: 0.0000\n",
      "best val accuracy 0.000000 with test accuracy 0.000000 at epoch 0\n",
      "Epoch: 052, Runtime 0.109194, Loss nan, forward nfe 4718, backward nfe 0, Train: 0.0000, Val: 0.0000, Test: 0.0000\n",
      "best val accuracy 0.000000 with test accuracy 0.000000 at epoch 0\n",
      "Epoch: 053, Runtime 0.112022, Loss nan, forward nfe 4806, backward nfe 0, Train: 0.0000, Val: 0.0000, Test: 0.0000\n",
      "best val accuracy 0.000000 with test accuracy 0.000000 at epoch 0\n",
      "Epoch: 054, Runtime 0.112703, Loss nan, forward nfe 4894, backward nfe 0, Train: 0.0000, Val: 0.0000, Test: 0.0000\n",
      "best val accuracy 0.000000 with test accuracy 0.000000 at epoch 0\n",
      "Epoch: 055, Runtime 0.109922, Loss nan, forward nfe 4982, backward nfe 0, Train: 0.0000, Val: 0.0000, Test: 0.0000\n",
      "best val accuracy 0.000000 with test accuracy 0.000000 at epoch 0\n",
      "Epoch: 056, Runtime 0.110587, Loss nan, forward nfe 5070, backward nfe 0, Train: 0.0000, Val: 0.0000, Test: 0.0000\n",
      "best val accuracy 0.000000 with test accuracy 0.000000 at epoch 0\n",
      "Epoch: 057, Runtime 0.110353, Loss nan, forward nfe 5158, backward nfe 0, Train: 0.0000, Val: 0.0000, Test: 0.0000\n",
      "best val accuracy 0.000000 with test accuracy 0.000000 at epoch 0\n",
      "Epoch: 058, Runtime 0.111196, Loss nan, forward nfe 5246, backward nfe 0, Train: 0.0000, Val: 0.0000, Test: 0.0000\n",
      "best val accuracy 0.000000 with test accuracy 0.000000 at epoch 0\n",
      "Epoch: 059, Runtime 0.111902, Loss nan, forward nfe 5334, backward nfe 0, Train: 0.0000, Val: 0.0000, Test: 0.0000\n",
      "best val accuracy 0.000000 with test accuracy 0.000000 at epoch 0\n",
      "Epoch: 060, Runtime 0.111393, Loss nan, forward nfe 5422, backward nfe 0, Train: 0.0000, Val: 0.0000, Test: 0.0000\n",
      "best val accuracy 0.000000 with test accuracy 0.000000 at epoch 0\n",
      "Epoch: 061, Runtime 0.109266, Loss nan, forward nfe 5510, backward nfe 0, Train: 0.0000, Val: 0.0000, Test: 0.0000\n",
      "best val accuracy 0.000000 with test accuracy 0.000000 at epoch 0\n",
      "Epoch: 062, Runtime 0.114343, Loss nan, forward nfe 5598, backward nfe 0, Train: 0.0000, Val: 0.0000, Test: 0.0000\n",
      "best val accuracy 0.000000 with test accuracy 0.000000 at epoch 0\n",
      "Epoch: 063, Runtime 0.113846, Loss nan, forward nfe 5692, backward nfe 0, Train: 0.0000, Val: 0.0000, Test: 0.0000\n",
      "best val accuracy 0.000000 with test accuracy 0.000000 at epoch 0\n",
      "Epoch: 064, Runtime 0.114414, Loss nan, forward nfe 5786, backward nfe 0, Train: 0.0000, Val: 0.0000, Test: 0.0000\n",
      "best val accuracy 0.000000 with test accuracy 0.000000 at epoch 0\n",
      "Epoch: 065, Runtime 0.115835, Loss nan, forward nfe 5880, backward nfe 0, Train: 0.0000, Val: 0.0000, Test: 0.0000\n",
      "best val accuracy 0.000000 with test accuracy 0.000000 at epoch 0\n",
      "Epoch: 066, Runtime 0.115190, Loss nan, forward nfe 5974, backward nfe 0, Train: 0.0000, Val: 0.0000, Test: 0.0000\n",
      "best val accuracy 0.000000 with test accuracy 0.000000 at epoch 0\n",
      "Epoch: 067, Runtime 0.115248, Loss nan, forward nfe 6068, backward nfe 0, Train: 0.0000, Val: 0.0000, Test: 0.0000\n",
      "best val accuracy 0.000000 with test accuracy 0.000000 at epoch 0\n",
      "Epoch: 068, Runtime 0.119136, Loss nan, forward nfe 6162, backward nfe 0, Train: 0.0000, Val: 0.0000, Test: 0.0000\n",
      "best val accuracy 0.000000 with test accuracy 0.000000 at epoch 0\n",
      "Epoch: 069, Runtime 0.113086, Loss nan, forward nfe 6256, backward nfe 0, Train: 0.0000, Val: 0.0000, Test: 0.0000\n",
      "best val accuracy 0.000000 with test accuracy 0.000000 at epoch 0\n",
      "Epoch: 070, Runtime 0.118621, Loss nan, forward nfe 6356, backward nfe 0, Train: 0.0000, Val: 0.0000, Test: 0.0000\n",
      "best val accuracy 0.000000 with test accuracy 0.000000 at epoch 0\n",
      "Epoch: 071, Runtime 0.118999, Loss nan, forward nfe 6456, backward nfe 0, Train: 0.0000, Val: 0.0000, Test: 0.0000\n",
      "best val accuracy 0.000000 with test accuracy 0.000000 at epoch 0\n",
      "Epoch: 072, Runtime 0.119558, Loss nan, forward nfe 6556, backward nfe 0, Train: 0.0000, Val: 0.0000, Test: 0.0000\n",
      "best val accuracy 0.000000 with test accuracy 0.000000 at epoch 0\n",
      "Epoch: 073, Runtime 0.119277, Loss nan, forward nfe 6650, backward nfe 0, Train: 0.0000, Val: 0.0000, Test: 0.0000\n",
      "best val accuracy 0.000000 with test accuracy 0.000000 at epoch 0\n",
      "Epoch: 074, Runtime 0.115227, Loss nan, forward nfe 6744, backward nfe 0, Train: 0.0000, Val: 0.0000, Test: 0.0000\n",
      "best val accuracy 0.000000 with test accuracy 0.000000 at epoch 0\n",
      "Epoch: 075, Runtime 0.114818, Loss nan, forward nfe 6838, backward nfe 0, Train: 0.0000, Val: 0.0000, Test: 0.0000\n",
      "best val accuracy 0.000000 with test accuracy 0.000000 at epoch 0\n",
      "Epoch: 076, Runtime 0.114147, Loss nan, forward nfe 6932, backward nfe 0, Train: 0.0000, Val: 0.0000, Test: 0.0000\n",
      "best val accuracy 0.000000 with test accuracy 0.000000 at epoch 0\n",
      "Epoch: 077, Runtime 0.116145, Loss nan, forward nfe 7026, backward nfe 0, Train: 0.0000, Val: 0.0000, Test: 0.0000\n",
      "best val accuracy 0.000000 with test accuracy 0.000000 at epoch 0\n",
      "Epoch: 078, Runtime 0.118037, Loss nan, forward nfe 7120, backward nfe 0, Train: 0.0000, Val: 0.0000, Test: 0.0000\n",
      "best val accuracy 0.000000 with test accuracy 0.000000 at epoch 0\n",
      "Epoch: 079, Runtime 0.116148, Loss nan, forward nfe 7214, backward nfe 0, Train: 0.0000, Val: 0.0000, Test: 0.0000\n",
      "best val accuracy 0.000000 with test accuracy 0.000000 at epoch 0\n",
      "Epoch: 080, Runtime 0.109344, Loss nan, forward nfe 7302, backward nfe 0, Train: 0.0000, Val: 0.0000, Test: 0.0000\n",
      "best val accuracy 0.000000 with test accuracy 0.000000 at epoch 0\n",
      "Epoch: 081, Runtime 0.108149, Loss nan, forward nfe 7390, backward nfe 0, Train: 0.0000, Val: 0.0000, Test: 0.0000\n",
      "best val accuracy 0.000000 with test accuracy 0.000000 at epoch 0\n",
      "Epoch: 082, Runtime 0.110247, Loss nan, forward nfe 7478, backward nfe 0, Train: 0.0000, Val: 0.0000, Test: 0.0000\n",
      "best val accuracy 0.000000 with test accuracy 0.000000 at epoch 0\n",
      "Epoch: 083, Runtime 0.105100, Loss nan, forward nfe 7566, backward nfe 0, Train: 0.0000, Val: 0.0000, Test: 0.0000\n",
      "best val accuracy 0.000000 with test accuracy 0.000000 at epoch 0\n",
      "Epoch: 084, Runtime 0.105133, Loss nan, forward nfe 7648, backward nfe 0, Train: 0.0000, Val: 0.0000, Test: 0.0000\n",
      "best val accuracy 0.000000 with test accuracy 0.000000 at epoch 0\n",
      "Epoch: 085, Runtime 0.105295, Loss nan, forward nfe 7730, backward nfe 0, Train: 0.0000, Val: 0.0000, Test: 0.0000\n",
      "best val accuracy 0.000000 with test accuracy 0.000000 at epoch 0\n",
      "Epoch: 086, Runtime 0.106272, Loss nan, forward nfe 7812, backward nfe 0, Train: 0.0000, Val: 0.0000, Test: 0.0000\n",
      "best val accuracy 0.000000 with test accuracy 0.000000 at epoch 0\n",
      "Epoch: 087, Runtime 0.105895, Loss nan, forward nfe 7894, backward nfe 0, Train: 0.0000, Val: 0.0000, Test: 0.0000\n",
      "best val accuracy 0.000000 with test accuracy 0.000000 at epoch 0\n",
      "Epoch: 088, Runtime 0.107008, Loss nan, forward nfe 7976, backward nfe 0, Train: 0.0000, Val: 0.0000, Test: 0.0000\n",
      "best val accuracy 0.000000 with test accuracy 0.000000 at epoch 0\n",
      "Epoch: 089, Runtime 0.095304, Loss nan, forward nfe 8052, backward nfe 0, Train: 0.0000, Val: 0.0000, Test: 0.0000\n",
      "best val accuracy 0.000000 with test accuracy 0.000000 at epoch 0\n",
      "Epoch: 090, Runtime 0.095618, Loss nan, forward nfe 8128, backward nfe 0, Train: 0.0000, Val: 0.0000, Test: 0.0000\n",
      "best val accuracy 0.000000 with test accuracy 0.000000 at epoch 0\n",
      "Epoch: 091, Runtime 0.095386, Loss nan, forward nfe 8204, backward nfe 0, Train: 0.0000, Val: 0.0000, Test: 0.0000\n",
      "best val accuracy 0.000000 with test accuracy 0.000000 at epoch 0\n",
      "Epoch: 092, Runtime 0.096367, Loss nan, forward nfe 8280, backward nfe 0, Train: 0.0000, Val: 0.0000, Test: 0.0000\n",
      "best val accuracy 0.000000 with test accuracy 0.000000 at epoch 0\n",
      "Epoch: 093, Runtime 0.095267, Loss nan, forward nfe 8356, backward nfe 0, Train: 0.0000, Val: 0.0000, Test: 0.0000\n",
      "best val accuracy 0.000000 with test accuracy 0.000000 at epoch 0\n",
      "Epoch: 094, Runtime 0.101324, Loss nan, forward nfe 8432, backward nfe 0, Train: 0.0000, Val: 0.0000, Test: 0.0000\n",
      "best val accuracy 0.000000 with test accuracy 0.000000 at epoch 0\n",
      "Epoch: 095, Runtime 0.098498, Loss nan, forward nfe 8514, backward nfe 0, Train: 0.0000, Val: 0.0000, Test: 0.0000\n",
      "best val accuracy 0.000000 with test accuracy 0.000000 at epoch 0\n",
      "Epoch: 096, Runtime 0.099196, Loss nan, forward nfe 8596, backward nfe 0, Train: 0.0000, Val: 0.0000, Test: 0.0000\n",
      "best val accuracy 0.000000 with test accuracy 0.000000 at epoch 0\n",
      "Epoch: 097, Runtime 0.099750, Loss nan, forward nfe 8678, backward nfe 0, Train: 0.0000, Val: 0.0000, Test: 0.0000\n",
      "best val accuracy 0.000000 with test accuracy 0.000000 at epoch 0\n",
      "Epoch: 098, Runtime 0.098684, Loss nan, forward nfe 8760, backward nfe 0, Train: 0.0000, Val: 0.0000, Test: 0.0000\n",
      "best val accuracy 0.000000 with test accuracy 0.000000 at epoch 0\n",
      "Epoch: 099, Runtime 0.099209, Loss nan, forward nfe 8842, backward nfe 0, Train: 0.0000, Val: 0.0000, Test: 0.0000\n",
      "best val accuracy 0.000000 with test accuracy 0.000000 at epoch 0\n"
     ]
    }
   ],
   "source": [
    "best_val_acc = test_acc = best_epoch = 0\n",
    "for epoch in range(1, opt['epoch']):\n",
    "    start_time = time.time()\n",
    "\n",
    "    loss = train(model, optimizer, dat)\n",
    "    train_acc, val_acc, tmp_test_acc = test(model, dat)\n",
    "\n",
    "    if val_acc > best_val_acc:\n",
    "      best_val_acc = val_acc\n",
    "      test_acc = tmp_test_acc\n",
    "      best_epoch = epoch\n",
    "    log = 'Epoch: {:03d}, Runtime {:03f}, Loss {:03f}, forward nfe {:d}, backward nfe {:d}, Train: {:.4f}, Val: {:.4f}, Test: {:.4f}'\n",
    "    print(\n",
    "      log.format(epoch, time.time() - start_time, loss, model.fm.sum, model.bm.sum, train_acc, best_val_acc, test_acc))\n",
    "    print('best val accuracy {:03f} with test accuracy {:03f} at epoch {:d}'.format(best_val_acc, test_acc, best_epoch))"
   ]
  },
  {
   "cell_type": "code",
   "execution_count": 10,
   "metadata": {},
   "outputs": [
    {
     "name": "stdout",
     "output_type": "stream",
     "text": [
      "edges shape: torch.Size([2, 12623]), attention shape: torch.Size([12623, 8])\n"
     ]
    }
   ],
   "source": [
    "attention = model.odeblock.odefunc.attention_weights\n",
    "edges = model.odeblock.odefunc.edge_index\n",
    "print('edges shape: {}, attention shape: {}'.format(edges.shape, attention.shape))"
   ]
  },
  {
   "cell_type": "code",
   "execution_count": 11,
   "metadata": {},
   "outputs": [
    {
     "name": "stdout",
     "output_type": "stream",
     "text": [
      "tensor(0.0059, device='cuda:0') tensor(0.1969, device='cuda:0') tensor(0.5000, device='cuda:0')\n"
     ]
    }
   ],
   "source": [
    "print(attention.min(), attention.mean(), attention.max())"
   ]
  },
  {
   "cell_type": "code",
   "execution_count": 14,
   "metadata": {},
   "outputs": [
    {
     "name": "stdout",
     "output_type": "stream",
     "text": [
      "(12623,)\n"
     ]
    }
   ],
   "source": [
    "atts = attention.detach().cpu().numpy()[:,0]\n",
    "print(atts.shape)"
   ]
  },
  {
   "cell_type": "code",
   "execution_count": 15,
   "metadata": {},
   "outputs": [
    {
     "name": "stdout",
     "output_type": "stream",
     "text": [
      "CPU times: user 26.4 ms, sys: 941 µs, total: 27.3 ms\n",
      "Wall time: 34.4 ms\n"
     ]
    },
    {
     "data": {
      "text/plain": [
       "(array([2366., 3939., 3975., 1635.,    0.,  708.,    0.,    0.,    0.,\n",
       "           0.]),\n",
       " array([0. , 0.1, 0.2, 0.3, 0.4, 0.5, 0.6, 0.7, 0.8, 0.9, 1. ]),\n",
       " <BarContainer object of 10 artists>)"
      ]
     },
     "execution_count": 15,
     "metadata": {},
     "output_type": "execute_result"
    },
    {
     "data": {
      "image/png": "[encoded data removed]",
      "text/plain": [
       "<Figure size 640x480 with 1 Axes>"
      ]
     },
     "metadata": {},
     "output_type": "display_data"
    }
   ],
   "source": [
    "%%time\n",
    "plt.hist(atts, bins=np.linspace(0,1,11))"
   ]
  },
  {
   "cell_type": "code",
   "execution_count": 16,
   "metadata": {},
   "outputs": [
    {
     "name": "stdout",
     "output_type": "stream",
     "text": [
      "CPU times: user 27.5 ms, sys: 1.42 ms, total: 29 ms\n",
      "Wall time: 26 ms\n"
     ]
    },
    {
     "data": {
      "text/plain": [
       "(array([  0.,   0.,   0.,   0.,   0., 169.,   0.,   0.,   0.,   0.]),\n",
       " array([0.   , 0.001, 0.002, 0.003, 0.004, 0.005, 0.006, 0.007, 0.008,\n",
       "        0.009, 0.01 ]),\n",
       " <BarContainer object of 10 artists>)"
      ]
     },
     "execution_count": 16,
     "metadata": {},
     "output_type": "execute_result"
    },
    {
     "data": {
      "image/png": "[encoded data removed]",
      "text/plain": [
       "<Figure size 640x480 with 1 Axes>"
      ]
     },
     "metadata": {},
     "output_type": "display_data"
    }
   ],
   "source": [
    "%%time\n",
    "plt.hist(atts, bins=np.linspace(0,0.01,11))"
   ]
  },
  {
   "cell_type": "code",
   "execution_count": 17,
   "metadata": {},
   "outputs": [
    {
     "name": "stdout",
     "output_type": "stream",
     "text": [
      "torch.Size([12623, 8]) torch.Size([2, 12623])\n"
     ]
    }
   ],
   "source": [
    "print(attention.shape, edges.shape)"
   ]
  },
  {
   "cell_type": "code",
   "execution_count": 18,
   "metadata": {},
   "outputs": [
    {
     "name": "stdout",
     "output_type": "stream",
     "text": [
      "2485\n"
     ]
    },
    {
     "name": "stderr",
     "output_type": "stream",
     "text": [
      "/home/huy/miniconda3/envs/grand/lib/python3.11/site-packages/torch_geometric/data/in_memory_dataset.py:300: UserWarning: It is not recommended to directly access the internal storage format `data` of an 'InMemoryDataset'. If you are absolutely certain what you are doing, access the internal storage via `InMemoryDataset._data` instead to suppress this warning. Alternatively, you can access stacked individual attributes of every graph via `dataset.{attr_name}`.\n",
      "  warnings.warn(msg)\n"
     ]
    }
   ],
   "source": [
    "labels = dataset.data.y\n",
    "print(len(labels))"
   ]
  },
  {
   "cell_type": "code",
   "execution_count": 19,
   "metadata": {},
   "outputs": [],
   "source": [
    "def construct_graph(edges, attention=None, threshold=0.01):\n",
    "    if isinstance(edges, torch.Tensor):\n",
    "        edges = edges.cpu().numpy()\n",
    "    if attention is not None:\n",
    "        edges = edges[:, attention > threshold]\n",
    "    edge_list = zip(edges[0], edges[1])\n",
    "    g = nx.Graph(edge_list)\n",
    "    return g"
   ]
  },
  {
   "cell_type": "code",
   "execution_count": 20,
   "metadata": {},
   "outputs": [
    {
     "name": "stdout",
     "output_type": "stream",
     "text": [
      "[(32, 387), (32, 790), (32, 791), (32, 1063), (32, 32)]\n",
      "7554 2485 1\n"
     ]
    }
   ],
   "source": [
    "edges = model.odeblock.odefunc.edge_index\n",
    "g = construct_graph(edges)\n",
    "print(g.edges([32]))\n",
    "print(g.number_of_edges(), g.number_of_nodes(), nx.number_connected_components(g))"
   ]
  },
  {
   "cell_type": "code",
   "execution_count": 21,
   "metadata": {},
   "outputs": [
    {
     "name": "stdout",
     "output_type": "stream",
     "text": [
      "7549 2485 2\n"
     ]
    }
   ],
   "source": [
    "g.remove_edges_from([(32, 387), (32, 790), (32, 791), (32, 1063), (32, 32)])\n",
    "print(g.number_of_edges(), g.number_of_nodes(), nx.number_connected_components(g))"
   ]
  },
  {
   "cell_type": "code",
   "execution_count": 22,
   "metadata": {},
   "outputs": [
    {
     "name": "stdout",
     "output_type": "stream",
     "text": [
      "torch.Size([2, 2366])\n"
     ]
    }
   ],
   "source": [
    "delete_edges = edges[:, attention[:, 0].detach().cpu().numpy() < 0.1]\n",
    "print(delete_edges.shape)"
   ]
  },
  {
   "cell_type": "code",
   "execution_count": 46,
   "metadata": {},
   "outputs": [],
   "source": [
    "def remove_edges(g, edges, attention, threshold):\n",
    "    if isinstance(edges, torch.Tensor):\n",
    "        edges = edges.cpu().numpy()\n",
    "    if isinstance(attention, torch.Tensor):\n",
    "        attention = attention.detach().cpu().numpy()\n",
    "    print(edges.shape, attention.shape, threshold)\n",
    "    print((attention < threshold).shape)\n",
    "    if attention.ndim == 2:\n",
    "        delete_edges = edges[:, attention[:, 0] < threshold]\n",
    "    else:\n",
    "        delete_edges = edges[:, attention < threshold]\n",
    "    print('deleting {} edges'.format(delete_edges.shape[1]))\n",
    "    edge_list = list(zip(delete_edges[0], delete_edges[1]))\n",
    "    g.remove_edges_from(edge_list)\n",
    "    print(g.number_of_edges(), g.number_of_nodes(), nx.number_connected_components(g))\n",
    "    return g"
   ]
  },
  {
   "cell_type": "code",
   "execution_count": 47,
   "metadata": {},
   "outputs": [
    {
     "name": "stdout",
     "output_type": "stream",
     "text": [
      "(2, 12623) (12623,) 0.02\n",
      "(12623,)\n",
      "deleting 389 edges\n",
      "7165 2485 38\n"
     ]
    }
   ],
   "source": [
    "g = remove_edges(g, edges, attention, threshold=0.02)\n",
    "# print(g.number_of_edges(), g.number_of_nodes())"
   ]
  },
  {
   "cell_type": "code",
   "execution_count": 48,
   "metadata": {},
   "outputs": [
    {
     "data": {
      "text/plain": [
       "EdgeDataView([(2, 1), (2, 296), (2, 1334), (2, 1531), (2, 2)])"
      ]
     },
     "execution_count": 48,
     "metadata": {},
     "output_type": "execute_result"
    }
   ],
   "source": [
    "g.edges([2])"
   ]
  },
  {
   "cell_type": "code",
   "execution_count": 49,
   "metadata": {},
   "outputs": [
    {
     "data": {
      "text/plain": [
       "[(575, 0),\n",
       " (575, 1726),\n",
       " (575, 575),\n",
       " (0, 1722),\n",
       " (0, 2400),\n",
       " (0, 0),\n",
       " (1722, 852),\n",
       " (1722, 2400),\n",
       " (1722, 1722),\n",
       " (2400, 1068)]"
      ]
     },
     "execution_count": 49,
     "metadata": {},
     "output_type": "execute_result"
    }
   ],
   "source": [
    "list(g.edges)[0:10]"
   ]
  },
  {
   "cell_type": "code",
   "execution_count": 50,
   "metadata": {},
   "outputs": [
    {
     "name": "stdout",
     "output_type": "stream",
     "text": [
      "7165 2485\n"
     ]
    }
   ],
   "source": [
    "print(g.number_of_edges(), g.number_of_nodes())"
   ]
  },
  {
   "cell_type": "code",
   "execution_count": 51,
   "metadata": {},
   "outputs": [
    {
     "data": {
      "text/plain": [
       "38"
      ]
     },
     "execution_count": 51,
     "metadata": {},
     "output_type": "execute_result"
    }
   ],
   "source": [
    "nx.number_connected_components(g)"
   ]
  },
  {
   "cell_type": "code",
   "execution_count": 52,
   "metadata": {},
   "outputs": [
    {
     "name": "stdout",
     "output_type": "stream",
     "text": [
      "torch.Size([2, 12623]) torch.Size([12623])\n"
     ]
    }
   ],
   "source": [
    "print(edges.shape, attention.shape)"
   ]
  },
  {
   "cell_type": "code",
   "execution_count": 53,
   "metadata": {},
   "outputs": [
    {
     "data": {
      "text/plain": [
       "array([1.        , 0.94736842, 0.89473684, 0.84210526, 0.78947368,\n",
       "       0.73684211, 0.68421053, 0.63157895, 0.57894737, 0.52631579,\n",
       "       0.47368421, 0.42105263, 0.36842105, 0.31578947, 0.26315789,\n",
       "       0.21052632, 0.15789474, 0.10526316, 0.05263158, 0.        ])"
      ]
     },
     "execution_count": 53,
     "metadata": {},
     "output_type": "execute_result"
    }
   ],
   "source": [
    "np.linspace(1,0,20)"
   ]
  },
  {
   "cell_type": "code",
   "execution_count": 54,
   "metadata": {},
   "outputs": [
    {
     "data": {
      "text/plain": [
       "array([0.        , 0.05263158, 0.10526316, 0.15789474, 0.21052632,\n",
       "       0.26315789, 0.31578947, 0.36842105, 0.42105263, 0.47368421,\n",
       "       0.52631579, 0.57894737, 0.63157895, 0.68421053, 0.73684211,\n",
       "       0.78947368, 0.84210526, 0.89473684, 0.94736842, 1.        ])"
      ]
     },
     "execution_count": 54,
     "metadata": {},
     "output_type": "execute_result"
    }
   ],
   "source": [
    "np.linspace(0,1,20)"
   ]
  },
  {
   "cell_type": "code",
   "execution_count": 55,
   "metadata": {},
   "outputs": [
    {
     "name": "stdout",
     "output_type": "stream",
     "text": [
      "(2, 12623) (12623,) 0.0\n",
      "(12623,)\n",
      "deleting 0 edges\n",
      "7554 2485 1\n",
      "7554 remaining edges. 1 connected components at threshold 0.0\n",
      "(2, 12623) (12623,) 0.0005263157894736842\n",
      "(12623,)\n",
      "deleting 0 edges\n",
      "7554 2485 1\n",
      "7554 remaining edges. 1 connected components at threshold 0.0005263157894736842\n",
      "(2, 12623) (12623,) 0.0010526315789473684\n",
      "(12623,)\n",
      "deleting 0 edges\n",
      "7554 2485 1\n",
      "7554 remaining edges. 1 connected components at threshold 0.0010526315789473684\n",
      "(2, 12623) (12623,) 0.0015789473684210526\n",
      "(12623,)\n",
      "deleting 0 edges\n",
      "7554 2485 1\n",
      "7554 remaining edges. 1 connected components at threshold 0.0015789473684210526\n",
      "(2, 12623) (12623,) 0.002105263157894737\n",
      "(12623,)\n",
      "deleting 0 edges\n",
      "7554 2485 1\n",
      "7554 remaining edges. 1 connected components at threshold 0.002105263157894737\n",
      "(2, 12623) (12623,) 0.002631578947368421\n",
      "(12623,)\n",
      "deleting 0 edges\n",
      "7554 2485 1\n",
      "7554 remaining edges. 1 connected components at threshold 0.002631578947368421\n",
      "(2, 12623) (12623,) 0.003157894736842105\n",
      "(12623,)\n",
      "deleting 0 edges\n",
      "7554 2485 1\n",
      "7554 remaining edges. 1 connected components at threshold 0.003157894736842105\n",
      "(2, 12623) (12623,) 0.0036842105263157894\n",
      "(12623,)\n",
      "deleting 0 edges\n",
      "7554 2485 1\n",
      "7554 remaining edges. 1 connected components at threshold 0.0036842105263157894\n",
      "(2, 12623) (12623,) 0.004210526315789474\n",
      "(12623,)\n",
      "deleting 0 edges\n",
      "7554 2485 1\n",
      "7554 remaining edges. 1 connected components at threshold 0.004210526315789474\n",
      "(2, 12623) (12623,) 0.004736842105263157\n",
      "(12623,)\n",
      "deleting 0 edges\n",
      "7554 2485 1\n",
      "7554 remaining edges. 1 connected components at threshold 0.004736842105263157\n",
      "(2, 12623) (12623,) 0.005263157894736842\n",
      "(12623,)\n",
      "deleting 0 edges\n",
      "7554 2485 1\n",
      "7554 remaining edges. 1 connected components at threshold 0.005263157894736842\n",
      "(2, 12623) (12623,) 0.005789473684210527\n",
      "(12623,)\n",
      "deleting 0 edges\n",
      "7554 2485 1\n",
      "7554 remaining edges. 1 connected components at threshold 0.005789473684210527\n",
      "(2, 12623) (12623,) 0.00631578947368421\n",
      "(12623,)\n",
      "deleting 169 edges\n",
      "7385 2485 9\n",
      "7385 remaining edges. 9 connected components at threshold 0.00631578947368421\n",
      "(2, 12623) (12623,) 0.006842105263157894\n",
      "(12623,)\n",
      "deleting 169 edges\n",
      "7385 2485 9\n",
      "7385 remaining edges. 9 connected components at threshold 0.006842105263157894\n",
      "(2, 12623) (12623,) 0.007368421052631579\n",
      "(12623,)\n",
      "deleting 169 edges\n",
      "7385 2485 9\n",
      "7385 remaining edges. 9 connected components at threshold 0.007368421052631579\n",
      "(2, 12623) (12623,) 0.007894736842105263\n",
      "(12623,)\n",
      "deleting 169 edges\n",
      "7385 2485 9\n",
      "7385 remaining edges. 9 connected components at threshold 0.007894736842105263\n",
      "(2, 12623) (12623,) 0.008421052631578947\n",
      "(12623,)\n",
      "deleting 169 edges\n",
      "7385 2485 9\n",
      "7385 remaining edges. 9 connected components at threshold 0.008421052631578947\n",
      "(2, 12623) (12623,) 0.008947368421052631\n",
      "(12623,)\n",
      "deleting 169 edges\n",
      "7385 2485 9\n",
      "7385 remaining edges. 9 connected components at threshold 0.008947368421052631\n",
      "(2, 12623) (12623,) 0.009473684210526315\n",
      "(12623,)\n",
      "deleting 169 edges\n",
      "7385 2485 9\n",
      "7385 remaining edges. 9 connected components at threshold 0.009473684210526315\n",
      "(2, 12623) (12623,) 0.01\n",
      "(12623,)\n",
      "deleting 169 edges\n",
      "7385 2485 9\n",
      "7385 remaining edges. 9 connected components at threshold 0.01\n"
     ]
    }
   ],
   "source": [
    "for threshold in np.linspace(0,0.01,20):\n",
    "    edges = model.odeblock.odefunc.edge_index\n",
    "    g = construct_graph(edges)\n",
    "    attention = model.odeblock.odefunc.edge_weight\n",
    "    g = remove_edges(g, edges, attention, threshold)\n",
    "    comps = nx.number_connected_components(g)\n",
    "    print('{} remaining edges. {} connected components at threshold {}'.format(g.number_of_edges(), comps, threshold))"
   ]
  },
  {
   "cell_type": "code",
   "execution_count": 56,
   "metadata": {},
   "outputs": [
    {
     "name": "stdout",
     "output_type": "stream",
     "text": [
      "(2, 12623) (12623,) 0.0\n",
      "(12623,)\n",
      "deleting 0 edges\n",
      "7554 2485 1\n",
      "7554 remaining edges. 1 connected components at threshold 0.0\n",
      "(2, 12623) (12623,) 0.0005263157894736842\n",
      "(12623,)\n",
      "deleting 0 edges\n",
      "7554 2485 1\n",
      "7554 remaining edges. 1 connected components at threshold 0.0005263157894736842\n",
      "(2, 12623) (12623,) 0.0010526315789473684\n",
      "(12623,)\n",
      "deleting 0 edges\n",
      "7554 2485 1\n",
      "7554 remaining edges. 1 connected components at threshold 0.0010526315789473684\n",
      "(2, 12623) (12623,) 0.0015789473684210526\n",
      "(12623,)\n",
      "deleting 0 edges\n",
      "7554 2485 1\n",
      "7554 remaining edges. 1 connected components at threshold 0.0015789473684210526\n",
      "(2, 12623) (12623,) 0.002105263157894737\n",
      "(12623,)\n",
      "deleting 0 edges\n",
      "7554 2485 1\n",
      "7554 remaining edges. 1 connected components at threshold 0.002105263157894737\n",
      "(2, 12623) (12623,) 0.002631578947368421\n",
      "(12623,)\n",
      "deleting 0 edges\n",
      "7554 2485 1\n",
      "7554 remaining edges. 1 connected components at threshold 0.002631578947368421\n",
      "(2, 12623) (12623,) 0.003157894736842105\n",
      "(12623,)\n",
      "deleting 0 edges\n",
      "7554 2485 1\n",
      "7554 remaining edges. 1 connected components at threshold 0.003157894736842105\n",
      "(2, 12623) (12623,) 0.0036842105263157894\n",
      "(12623,)\n",
      "deleting 0 edges\n",
      "7554 2485 1\n",
      "7554 remaining edges. 1 connected components at threshold 0.0036842105263157894\n",
      "(2, 12623) (12623,) 0.004210526315789474\n",
      "(12623,)\n",
      "deleting 0 edges\n",
      "7554 2485 1\n",
      "7554 remaining edges. 1 connected components at threshold 0.004210526315789474\n",
      "(2, 12623) (12623,) 0.004736842105263157\n",
      "(12623,)\n",
      "deleting 0 edges\n",
      "7554 2485 1\n",
      "7554 remaining edges. 1 connected components at threshold 0.004736842105263157\n",
      "(2, 12623) (12623,) 0.005263157894736842\n",
      "(12623,)\n",
      "deleting 0 edges\n",
      "7554 2485 1\n",
      "7554 remaining edges. 1 connected components at threshold 0.005263157894736842\n",
      "(2, 12623) (12623,) 0.005789473684210527\n",
      "(12623,)\n",
      "deleting 0 edges\n",
      "7554 2485 1\n",
      "7554 remaining edges. 1 connected components at threshold 0.005789473684210527\n",
      "(2, 12623) (12623,) 0.00631578947368421\n",
      "(12623,)\n",
      "deleting 169 edges\n",
      "7385 2485 9\n",
      "7385 remaining edges. 9 connected components at threshold 0.00631578947368421\n",
      "(2, 12623) (12623,) 0.006842105263157894\n",
      "(12623,)\n",
      "deleting 169 edges\n",
      "7385 2485 9\n",
      "7385 remaining edges. 9 connected components at threshold 0.006842105263157894\n",
      "(2, 12623) (12623,) 0.007368421052631579\n",
      "(12623,)\n",
      "deleting 169 edges\n",
      "7385 2485 9\n",
      "7385 remaining edges. 9 connected components at threshold 0.007368421052631579\n",
      "(2, 12623) (12623,) 0.007894736842105263\n",
      "(12623,)\n",
      "deleting 169 edges\n",
      "7385 2485 9\n",
      "7385 remaining edges. 9 connected components at threshold 0.007894736842105263\n",
      "(2, 12623) (12623,) 0.008421052631578947\n",
      "(12623,)\n",
      "deleting 169 edges\n",
      "7385 2485 9\n",
      "7385 remaining edges. 9 connected components at threshold 0.008421052631578947\n",
      "(2, 12623) (12623,) 0.008947368421052631\n",
      "(12623,)\n",
      "deleting 169 edges\n",
      "7385 2485 9\n",
      "7385 remaining edges. 9 connected components at threshold 0.008947368421052631\n",
      "(2, 12623) (12623,) 0.009473684210526315\n",
      "(12623,)\n",
      "deleting 169 edges\n",
      "7385 2485 9\n",
      "7385 remaining edges. 9 connected components at threshold 0.009473684210526315\n",
      "(2, 12623) (12623,) 0.01\n",
      "(12623,)\n",
      "deleting 169 edges\n",
      "7385 2485 9\n",
      "7385 remaining edges. 9 connected components at threshold 0.01\n"
     ]
    }
   ],
   "source": [
    "for threshold in np.linspace(0,0.01,20):\n",
    "    edges = model.odeblock.odefunc.edge_index\n",
    "    g = construct_graph(edges)\n",
    "    attention = model.odeblock.odefunc.attention_weights[:,0]  # just using one head for now.\n",
    "    g = remove_edges(g, edges, attention, threshold)\n",
    "    comps = nx.number_connected_components(g)\n",
    "    print('{} remaining edges. {} connected components at threshold {}'.format(g.number_of_edges(), comps, threshold))"
   ]
  },
  {
   "cell_type": "code",
   "execution_count": 57,
   "metadata": {},
   "outputs": [
    {
     "name": "stdout",
     "output_type": "stream",
     "text": [
      "7385 2485 2485\n"
     ]
    }
   ],
   "source": [
    "print(len(g.edges), len(g.nodes), g.number_of_nodes())"
   ]
  },
  {
   "cell_type": "code",
   "execution_count": 60,
   "metadata": {},
   "outputs": [
    {
     "ename": "TypeError",
     "evalue": "can't convert cuda:0 device type tensor to numpy. Use Tensor.cpu() to copy the tensor to host memory first.",
     "output_type": "error",
     "traceback": [
      "\u001b[0;31m---------------------------------------------------------------------------\u001b[0m",
      "\u001b[0;31mTypeError\u001b[0m                                 Traceback (most recent call last)",
      "File \u001b[0;32m<timed eval>:1\u001b[0m\n",
      "File \u001b[0;32m~/miniconda3/envs/grand/lib/python3.11/site-packages/networkx/drawing/nx_pylab.py:123\u001b[0m, in \u001b[0;36mdraw\u001b[0;34m(G, pos, ax, **kwds)\u001b[0m\n\u001b[1;32m    120\u001b[0m \u001b[38;5;28;01mif\u001b[39;00m \u001b[38;5;124m\"\u001b[39m\u001b[38;5;124mwith_labels\u001b[39m\u001b[38;5;124m\"\u001b[39m \u001b[38;5;129;01mnot\u001b[39;00m \u001b[38;5;129;01min\u001b[39;00m kwds:\n\u001b[1;32m    121\u001b[0m     kwds[\u001b[38;5;124m\"\u001b[39m\u001b[38;5;124mwith_labels\u001b[39m\u001b[38;5;124m\"\u001b[39m] \u001b[38;5;241m=\u001b[39m \u001b[38;5;124m\"\u001b[39m\u001b[38;5;124mlabels\u001b[39m\u001b[38;5;124m\"\u001b[39m \u001b[38;5;129;01min\u001b[39;00m kwds\n\u001b[0;32m--> 123\u001b[0m \u001b[43mdraw_networkx\u001b[49m\u001b[43m(\u001b[49m\u001b[43mG\u001b[49m\u001b[43m,\u001b[49m\u001b[43m \u001b[49m\u001b[43mpos\u001b[49m\u001b[38;5;241;43m=\u001b[39;49m\u001b[43mpos\u001b[49m\u001b[43m,\u001b[49m\u001b[43m \u001b[49m\u001b[43max\u001b[49m\u001b[38;5;241;43m=\u001b[39;49m\u001b[43max\u001b[49m\u001b[43m,\u001b[49m\u001b[43m \u001b[49m\u001b[38;5;241;43m*\u001b[39;49m\u001b[38;5;241;43m*\u001b[39;49m\u001b[43mkwds\u001b[49m\u001b[43m)\u001b[49m\n\u001b[1;32m    124\u001b[0m ax\u001b[38;5;241m.\u001b[39mset_axis_off()\n\u001b[1;32m    125\u001b[0m plt\u001b[38;5;241m.\u001b[39mdraw_if_interactive()\n",
      "File \u001b[0;32m~/miniconda3/envs/grand/lib/python3.11/site-packages/networkx/drawing/nx_pylab.py:311\u001b[0m, in \u001b[0;36mdraw_networkx\u001b[0;34m(G, pos, arrows, with_labels, **kwds)\u001b[0m\n\u001b[1;32m    308\u001b[0m \u001b[38;5;28;01mif\u001b[39;00m pos \u001b[38;5;129;01mis\u001b[39;00m \u001b[38;5;28;01mNone\u001b[39;00m:\n\u001b[1;32m    309\u001b[0m     pos \u001b[38;5;241m=\u001b[39m nx\u001b[38;5;241m.\u001b[39mdrawing\u001b[38;5;241m.\u001b[39mspring_layout(G)  \u001b[38;5;66;03m# default to spring layout\u001b[39;00m\n\u001b[0;32m--> 311\u001b[0m \u001b[43mdraw_networkx_nodes\u001b[49m\u001b[43m(\u001b[49m\u001b[43mG\u001b[49m\u001b[43m,\u001b[49m\u001b[43m \u001b[49m\u001b[43mpos\u001b[49m\u001b[43m,\u001b[49m\u001b[43m \u001b[49m\u001b[38;5;241;43m*\u001b[39;49m\u001b[38;5;241;43m*\u001b[39;49m\u001b[43mnode_kwds\u001b[49m\u001b[43m)\u001b[49m\n\u001b[1;32m    312\u001b[0m draw_networkx_edges(G, pos, arrows\u001b[38;5;241m=\u001b[39marrows, \u001b[38;5;241m*\u001b[39m\u001b[38;5;241m*\u001b[39medge_kwds)\n\u001b[1;32m    313\u001b[0m \u001b[38;5;28;01mif\u001b[39;00m with_labels:\n",
      "File \u001b[0;32m~/miniconda3/envs/grand/lib/python3.11/site-packages/networkx/drawing/nx_pylab.py:450\u001b[0m, in \u001b[0;36mdraw_networkx_nodes\u001b[0;34m(G, pos, nodelist, node_size, node_color, node_shape, alpha, cmap, vmin, vmax, ax, linewidths, edgecolors, label, margins, hide_ticks)\u001b[0m\n\u001b[1;32m    447\u001b[0m     node_color \u001b[38;5;241m=\u001b[39m apply_alpha(node_color, alpha, nodelist, cmap, vmin, vmax)\n\u001b[1;32m    448\u001b[0m     alpha \u001b[38;5;241m=\u001b[39m \u001b[38;5;28;01mNone\u001b[39;00m\n\u001b[0;32m--> 450\u001b[0m node_collection \u001b[38;5;241m=\u001b[39m \u001b[43max\u001b[49m\u001b[38;5;241;43m.\u001b[39;49m\u001b[43mscatter\u001b[49m\u001b[43m(\u001b[49m\n\u001b[1;32m    451\u001b[0m \u001b[43m    \u001b[49m\u001b[43mxy\u001b[49m\u001b[43m[\u001b[49m\u001b[43m:\u001b[49m\u001b[43m,\u001b[49m\u001b[43m \u001b[49m\u001b[38;5;241;43m0\u001b[39;49m\u001b[43m]\u001b[49m\u001b[43m,\u001b[49m\n\u001b[1;32m    452\u001b[0m \u001b[43m    \u001b[49m\u001b[43mxy\u001b[49m\u001b[43m[\u001b[49m\u001b[43m:\u001b[49m\u001b[43m,\u001b[49m\u001b[43m \u001b[49m\u001b[38;5;241;43m1\u001b[39;49m\u001b[43m]\u001b[49m\u001b[43m,\u001b[49m\n\u001b[1;32m    453\u001b[0m \u001b[43m    \u001b[49m\u001b[43ms\u001b[49m\u001b[38;5;241;43m=\u001b[39;49m\u001b[43mnode_size\u001b[49m\u001b[43m,\u001b[49m\n\u001b[1;32m    454\u001b[0m \u001b[43m    \u001b[49m\u001b[43mc\u001b[49m\u001b[38;5;241;43m=\u001b[39;49m\u001b[43mnode_color\u001b[49m\u001b[43m,\u001b[49m\n\u001b[1;32m    455\u001b[0m \u001b[43m    \u001b[49m\u001b[43mmarker\u001b[49m\u001b[38;5;241;43m=\u001b[39;49m\u001b[43mnode_shape\u001b[49m\u001b[43m,\u001b[49m\n\u001b[1;32m    456\u001b[0m \u001b[43m    \u001b[49m\u001b[43mcmap\u001b[49m\u001b[38;5;241;43m=\u001b[39;49m\u001b[43mcmap\u001b[49m\u001b[43m,\u001b[49m\n\u001b[1;32m    457\u001b[0m \u001b[43m    \u001b[49m\u001b[43mvmin\u001b[49m\u001b[38;5;241;43m=\u001b[39;49m\u001b[43mvmin\u001b[49m\u001b[43m,\u001b[49m\n\u001b[1;32m    458\u001b[0m \u001b[43m    \u001b[49m\u001b[43mvmax\u001b[49m\u001b[38;5;241;43m=\u001b[39;49m\u001b[43mvmax\u001b[49m\u001b[43m,\u001b[49m\n\u001b[1;32m    459\u001b[0m \u001b[43m    \u001b[49m\u001b[43malpha\u001b[49m\u001b[38;5;241;43m=\u001b[39;49m\u001b[43malpha\u001b[49m\u001b[43m,\u001b[49m\n\u001b[1;32m    460\u001b[0m \u001b[43m    \u001b[49m\u001b[43mlinewidths\u001b[49m\u001b[38;5;241;43m=\u001b[39;49m\u001b[43mlinewidths\u001b[49m\u001b[43m,\u001b[49m\n\u001b[1;32m    461\u001b[0m \u001b[43m    \u001b[49m\u001b[43medgecolors\u001b[49m\u001b[38;5;241;43m=\u001b[39;49m\u001b[43medgecolors\u001b[49m\u001b[43m,\u001b[49m\n\u001b[1;32m    462\u001b[0m \u001b[43m    \u001b[49m\u001b[43mlabel\u001b[49m\u001b[38;5;241;43m=\u001b[39;49m\u001b[43mlabel\u001b[49m\u001b[43m,\u001b[49m\n\u001b[1;32m    463\u001b[0m \u001b[43m\u001b[49m\u001b[43m)\u001b[49m\n\u001b[1;32m    464\u001b[0m \u001b[38;5;28;01mif\u001b[39;00m hide_ticks:\n\u001b[1;32m    465\u001b[0m     ax\u001b[38;5;241m.\u001b[39mtick_params(\n\u001b[1;32m    466\u001b[0m         axis\u001b[38;5;241m=\u001b[39m\u001b[38;5;124m\"\u001b[39m\u001b[38;5;124mboth\u001b[39m\u001b[38;5;124m\"\u001b[39m,\n\u001b[1;32m    467\u001b[0m         which\u001b[38;5;241m=\u001b[39m\u001b[38;5;124m\"\u001b[39m\u001b[38;5;124mboth\u001b[39m\u001b[38;5;124m\"\u001b[39m,\n\u001b[0;32m   (...)\u001b[0m\n\u001b[1;32m    471\u001b[0m         labelleft\u001b[38;5;241m=\u001b[39m\u001b[38;5;28;01mFalse\u001b[39;00m,\n\u001b[1;32m    472\u001b[0m     )\n",
      "File \u001b[0;32m~/miniconda3/envs/grand/lib/python3.11/site-packages/matplotlib/__init__.py:1465\u001b[0m, in \u001b[0;36m_preprocess_data.<locals>.inner\u001b[0;34m(ax, data, *args, **kwargs)\u001b[0m\n\u001b[1;32m   1462\u001b[0m \u001b[38;5;129m@functools\u001b[39m\u001b[38;5;241m.\u001b[39mwraps(func)\n\u001b[1;32m   1463\u001b[0m \u001b[38;5;28;01mdef\u001b[39;00m \u001b[38;5;21minner\u001b[39m(ax, \u001b[38;5;241m*\u001b[39margs, data\u001b[38;5;241m=\u001b[39m\u001b[38;5;28;01mNone\u001b[39;00m, \u001b[38;5;241m*\u001b[39m\u001b[38;5;241m*\u001b[39mkwargs):\n\u001b[1;32m   1464\u001b[0m     \u001b[38;5;28;01mif\u001b[39;00m data \u001b[38;5;129;01mis\u001b[39;00m \u001b[38;5;28;01mNone\u001b[39;00m:\n\u001b[0;32m-> 1465\u001b[0m         \u001b[38;5;28;01mreturn\u001b[39;00m \u001b[43mfunc\u001b[49m\u001b[43m(\u001b[49m\u001b[43max\u001b[49m\u001b[43m,\u001b[49m\u001b[43m \u001b[49m\u001b[38;5;241;43m*\u001b[39;49m\u001b[38;5;28;43mmap\u001b[39;49m\u001b[43m(\u001b[49m\u001b[43msanitize_sequence\u001b[49m\u001b[43m,\u001b[49m\u001b[43m \u001b[49m\u001b[43margs\u001b[49m\u001b[43m)\u001b[49m\u001b[43m,\u001b[49m\u001b[43m \u001b[49m\u001b[38;5;241;43m*\u001b[39;49m\u001b[38;5;241;43m*\u001b[39;49m\u001b[43mkwargs\u001b[49m\u001b[43m)\u001b[49m\n\u001b[1;32m   1467\u001b[0m     bound \u001b[38;5;241m=\u001b[39m new_sig\u001b[38;5;241m.\u001b[39mbind(ax, \u001b[38;5;241m*\u001b[39margs, \u001b[38;5;241m*\u001b[39m\u001b[38;5;241m*\u001b[39mkwargs)\n\u001b[1;32m   1468\u001b[0m     auto_label \u001b[38;5;241m=\u001b[39m (bound\u001b[38;5;241m.\u001b[39marguments\u001b[38;5;241m.\u001b[39mget(label_namer)\n\u001b[1;32m   1469\u001b[0m                   \u001b[38;5;129;01mor\u001b[39;00m bound\u001b[38;5;241m.\u001b[39mkwargs\u001b[38;5;241m.\u001b[39mget(label_namer))\n",
      "File \u001b[0;32m~/miniconda3/envs/grand/lib/python3.11/site-packages/matplotlib/axes/_axes.py:4673\u001b[0m, in \u001b[0;36mAxes.scatter\u001b[0;34m(self, x, y, s, c, marker, cmap, norm, vmin, vmax, alpha, linewidths, edgecolors, plotnonfinite, **kwargs)\u001b[0m\n\u001b[1;32m   4670\u001b[0m \u001b[38;5;28;01mif\u001b[39;00m edgecolors \u001b[38;5;129;01mis\u001b[39;00m \u001b[38;5;28;01mNone\u001b[39;00m:\n\u001b[1;32m   4671\u001b[0m     orig_edgecolor \u001b[38;5;241m=\u001b[39m kwargs\u001b[38;5;241m.\u001b[39mget(\u001b[38;5;124m'\u001b[39m\u001b[38;5;124medgecolor\u001b[39m\u001b[38;5;124m'\u001b[39m, \u001b[38;5;28;01mNone\u001b[39;00m)\n\u001b[1;32m   4672\u001b[0m c, colors, edgecolors \u001b[38;5;241m=\u001b[39m \\\n\u001b[0;32m-> 4673\u001b[0m     \u001b[38;5;28;43mself\u001b[39;49m\u001b[38;5;241;43m.\u001b[39;49m\u001b[43m_parse_scatter_color_args\u001b[49m\u001b[43m(\u001b[49m\n\u001b[1;32m   4674\u001b[0m \u001b[43m        \u001b[49m\u001b[43mc\u001b[49m\u001b[43m,\u001b[49m\u001b[43m \u001b[49m\u001b[43medgecolors\u001b[49m\u001b[43m,\u001b[49m\u001b[43m \u001b[49m\u001b[43mkwargs\u001b[49m\u001b[43m,\u001b[49m\u001b[43m \u001b[49m\u001b[43mx\u001b[49m\u001b[38;5;241;43m.\u001b[39;49m\u001b[43msize\u001b[49m\u001b[43m,\u001b[49m\n\u001b[1;32m   4675\u001b[0m \u001b[43m        \u001b[49m\u001b[43mget_next_color_func\u001b[49m\u001b[38;5;241;43m=\u001b[39;49m\u001b[38;5;28;43mself\u001b[39;49m\u001b[38;5;241;43m.\u001b[39;49m\u001b[43m_get_patches_for_fill\u001b[49m\u001b[38;5;241;43m.\u001b[39;49m\u001b[43mget_next_color\u001b[49m\u001b[43m)\u001b[49m\n\u001b[1;32m   4677\u001b[0m \u001b[38;5;28;01mif\u001b[39;00m plotnonfinite \u001b[38;5;129;01mand\u001b[39;00m colors \u001b[38;5;129;01mis\u001b[39;00m \u001b[38;5;28;01mNone\u001b[39;00m:\n\u001b[1;32m   4678\u001b[0m     c \u001b[38;5;241m=\u001b[39m np\u001b[38;5;241m.\u001b[39mma\u001b[38;5;241m.\u001b[39mmasked_invalid(c)\n",
      "File \u001b[0;32m~/miniconda3/envs/grand/lib/python3.11/site-packages/matplotlib/axes/_axes.py:4458\u001b[0m, in \u001b[0;36mAxes._parse_scatter_color_args\u001b[0;34m(c, edgecolors, kwargs, xsize, get_next_color_func)\u001b[0m\n\u001b[1;32m   4456\u001b[0m \u001b[38;5;28;01mif\u001b[39;00m \u001b[38;5;129;01mnot\u001b[39;00m c_was_none \u001b[38;5;129;01mand\u001b[39;00m kwcolor \u001b[38;5;129;01mis\u001b[39;00m \u001b[38;5;28;01mNone\u001b[39;00m \u001b[38;5;129;01mand\u001b[39;00m \u001b[38;5;129;01mnot\u001b[39;00m c_is_string_or_strings:\n\u001b[1;32m   4457\u001b[0m     \u001b[38;5;28;01mtry\u001b[39;00m:  \u001b[38;5;66;03m# First, does 'c' look suitable for value-mapping?\u001b[39;00m\n\u001b[0;32m-> 4458\u001b[0m         c \u001b[38;5;241m=\u001b[39m \u001b[43mnp\u001b[49m\u001b[38;5;241;43m.\u001b[39;49m\u001b[43masanyarray\u001b[49m\u001b[43m(\u001b[49m\u001b[43mc\u001b[49m\u001b[43m,\u001b[49m\u001b[43m \u001b[49m\u001b[43mdtype\u001b[49m\u001b[38;5;241;43m=\u001b[39;49m\u001b[38;5;28;43mfloat\u001b[39;49m\u001b[43m)\u001b[49m\n\u001b[1;32m   4459\u001b[0m     \u001b[38;5;28;01mexcept\u001b[39;00m \u001b[38;5;167;01mValueError\u001b[39;00m:\n\u001b[1;32m   4460\u001b[0m         \u001b[38;5;28;01mpass\u001b[39;00m  \u001b[38;5;66;03m# Failed to convert to float array; must be color specs.\u001b[39;00m\n",
      "File \u001b[0;32m~/miniconda3/envs/grand/lib/python3.11/site-packages/torch/_tensor.py:1064\u001b[0m, in \u001b[0;36mTensor.__array__\u001b[0;34m(self, dtype)\u001b[0m\n\u001b[1;32m   1062\u001b[0m     \u001b[38;5;28;01mreturn\u001b[39;00m \u001b[38;5;28mself\u001b[39m\u001b[38;5;241m.\u001b[39mnumpy()\n\u001b[1;32m   1063\u001b[0m \u001b[38;5;28;01melse\u001b[39;00m:\n\u001b[0;32m-> 1064\u001b[0m     \u001b[38;5;28;01mreturn\u001b[39;00m \u001b[38;5;28;43mself\u001b[39;49m\u001b[38;5;241;43m.\u001b[39;49m\u001b[43mnumpy\u001b[49m\u001b[43m(\u001b[49m\u001b[43m)\u001b[49m\u001b[38;5;241m.\u001b[39mastype(dtype, copy\u001b[38;5;241m=\u001b[39m\u001b[38;5;28;01mFalse\u001b[39;00m)\n",
      "\u001b[0;31mTypeError\u001b[0m: can't convert cuda:0 device type tensor to numpy. Use Tensor.cpu() to copy the tensor to host memory first."
     ]
    },
    {
     "data": {
      "image/png": "[encoded data removed]",
      "text/plain": [
       "<Figure size 640x480 with 1 Axes>"
      ]
     },
     "metadata": {},
     "output_type": "display_data"
    }
   ],
   "source": [
    "%%time\n",
    "\n",
    "nx.draw(g, with_labels=False, font_weight='bold', node_size=5, node_color=labels)"
   ]
  },
  {
   "cell_type": "code",
   "execution_count": 61,
   "metadata": {},
   "outputs": [
    {
     "name": "stdout",
     "output_type": "stream",
     "text": [
      "connected: False, n_components: 9, directed: False\n"
     ]
    }
   ],
   "source": [
    "# nx.connected_components(g)\n",
    "print('connected: {}, n_components: {}, directed: {}'.format(nx.is_connected(g), nx.number_connected_components(g), g.is_directed()))"
   ]
  },
  {
   "cell_type": "code",
   "execution_count": 62,
   "metadata": {},
   "outputs": [
    {
     "data": {
      "text/plain": [
       "7385"
      ]
     },
     "execution_count": 62,
     "metadata": {},
     "output_type": "execute_result"
    }
   ],
   "source": [
    "type(atts)\n",
    "atts.shape\n",
    "len(g.edges)"
   ]
  },
  {
   "cell_type": "code",
   "execution_count": 63,
   "metadata": {},
   "outputs": [
    {
     "ename": "NameError",
     "evalue": "name 'att' is not defined",
     "output_type": "error",
     "traceback": [
      "\u001b[0;31m---------------------------------------------------------------------------\u001b[0m",
      "\u001b[0;31mNameError\u001b[0m                                 Traceback (most recent call last)",
      "Cell \u001b[0;32mIn[63], line 1\u001b[0m\n\u001b[0;32m----> 1\u001b[0m g\u001b[38;5;241m.\u001b[39medges \u001b[38;5;241m=\u001b[39m g\u001b[38;5;241m.\u001b[39medges[\u001b[43matt\u001b[49m]\n",
      "\u001b[0;31mNameError\u001b[0m: name 'att' is not defined"
     ]
    }
   ],
   "source": [
    "g.edges = g.edges[att]"
   ]
  },
  {
   "cell_type": "code",
   "execution_count": null,
   "metadata": {},
   "outputs": [],
   "source": []
  },
  {
   "cell_type": "code",
   "execution_count": 64,
   "metadata": {},
   "outputs": [],
   "source": [
    "ccs = [c for c in sorted(nx.connected_components(g), key=len, reverse=True)]"
   ]
  },
  {
   "cell_type": "code",
   "execution_count": 65,
   "metadata": {},
   "outputs": [
    {
     "data": {
      "text/plain": [
       "2473"
      ]
     },
     "execution_count": 65,
     "metadata": {},
     "output_type": "execute_result"
    }
   ],
   "source": [
    "len(ccs[0])"
   ]
  },
  {
   "cell_type": "code",
   "execution_count": 66,
   "metadata": {},
   "outputs": [],
   "source": [
    "g0 = g.subgraph(ccs[0])"
   ]
  },
  {
   "cell_type": "code",
   "execution_count": 67,
   "metadata": {},
   "outputs": [
    {
     "name": "stdout",
     "output_type": "stream",
     "text": [
      "7370 2473 2473\n"
     ]
    }
   ],
   "source": [
    "print(len(g0.edges), len(g0.nodes), g0.number_of_nodes())"
   ]
  },
  {
   "cell_type": "code",
   "execution_count": 68,
   "metadata": {},
   "outputs": [],
   "source": [
    "cc_idx = list(ccs[0])"
   ]
  },
  {
   "cell_type": "code",
   "execution_count": 69,
   "metadata": {},
   "outputs": [
    {
     "ename": "TypeError",
     "evalue": "can't convert cuda:0 device type tensor to numpy. Use Tensor.cpu() to copy the tensor to host memory first.",
     "output_type": "error",
     "traceback": [
      "\u001b[0;31m---------------------------------------------------------------------------\u001b[0m",
      "\u001b[0;31mTypeError\u001b[0m                                 Traceback (most recent call last)",
      "Cell \u001b[0;32mIn[69], line 1\u001b[0m\n\u001b[0;32m----> 1\u001b[0m \u001b[43mget_ipython\u001b[49m\u001b[43m(\u001b[49m\u001b[43m)\u001b[49m\u001b[38;5;241;43m.\u001b[39;49m\u001b[43mrun_cell_magic\u001b[49m\u001b[43m(\u001b[49m\u001b[38;5;124;43m'\u001b[39;49m\u001b[38;5;124;43mtimeit\u001b[39;49m\u001b[38;5;124;43m'\u001b[39;49m\u001b[43m,\u001b[49m\u001b[43m \u001b[49m\u001b[38;5;124;43m'\u001b[39;49m\u001b[38;5;124;43m'\u001b[39;49m\u001b[43m,\u001b[49m\u001b[43m \u001b[49m\u001b[38;5;124;43m\"\u001b[39;49m\u001b[38;5;124;43mnx.draw(g0, with_labels=False, font_weight=\u001b[39;49m\u001b[38;5;124;43m'\u001b[39;49m\u001b[38;5;124;43mbold\u001b[39;49m\u001b[38;5;124;43m'\u001b[39;49m\u001b[38;5;124;43m, node_size=5, node_color=labels[cc_idx])\u001b[39;49m\u001b[38;5;130;43;01m\\n\u001b[39;49;00m\u001b[38;5;124;43m\"\u001b[39;49m\u001b[43m)\u001b[49m\n",
      "File \u001b[0;32m~/miniconda3/envs/grand/lib/python3.11/site-packages/IPython/core/interactiveshell.py:2541\u001b[0m, in \u001b[0;36mInteractiveShell.run_cell_magic\u001b[0;34m(self, magic_name, line, cell)\u001b[0m\n\u001b[1;32m   2539\u001b[0m \u001b[38;5;28;01mwith\u001b[39;00m \u001b[38;5;28mself\u001b[39m\u001b[38;5;241m.\u001b[39mbuiltin_trap:\n\u001b[1;32m   2540\u001b[0m     args \u001b[38;5;241m=\u001b[39m (magic_arg_s, cell)\n\u001b[0;32m-> 2541\u001b[0m     result \u001b[38;5;241m=\u001b[39m \u001b[43mfn\u001b[49m\u001b[43m(\u001b[49m\u001b[38;5;241;43m*\u001b[39;49m\u001b[43margs\u001b[49m\u001b[43m,\u001b[49m\u001b[43m \u001b[49m\u001b[38;5;241;43m*\u001b[39;49m\u001b[38;5;241;43m*\u001b[39;49m\u001b[43mkwargs\u001b[49m\u001b[43m)\u001b[49m\n\u001b[1;32m   2543\u001b[0m \u001b[38;5;66;03m# The code below prevents the output from being displayed\u001b[39;00m\n\u001b[1;32m   2544\u001b[0m \u001b[38;5;66;03m# when using magics with decorator @output_can_be_silenced\u001b[39;00m\n\u001b[1;32m   2545\u001b[0m \u001b[38;5;66;03m# when the last Python token in the expression is a ';'.\u001b[39;00m\n\u001b[1;32m   2546\u001b[0m \u001b[38;5;28;01mif\u001b[39;00m \u001b[38;5;28mgetattr\u001b[39m(fn, magic\u001b[38;5;241m.\u001b[39mMAGIC_OUTPUT_CAN_BE_SILENCED, \u001b[38;5;28;01mFalse\u001b[39;00m):\n",
      "File \u001b[0;32m~/miniconda3/envs/grand/lib/python3.11/site-packages/IPython/core/magics/execution.py:1185\u001b[0m, in \u001b[0;36mExecutionMagics.timeit\u001b[0;34m(self, line, cell, local_ns)\u001b[0m\n\u001b[1;32m   1183\u001b[0m \u001b[38;5;28;01mfor\u001b[39;00m index \u001b[38;5;129;01min\u001b[39;00m \u001b[38;5;28mrange\u001b[39m(\u001b[38;5;241m0\u001b[39m, \u001b[38;5;241m10\u001b[39m):\n\u001b[1;32m   1184\u001b[0m     number \u001b[38;5;241m=\u001b[39m \u001b[38;5;241m10\u001b[39m \u001b[38;5;241m*\u001b[39m\u001b[38;5;241m*\u001b[39m index\n\u001b[0;32m-> 1185\u001b[0m     time_number \u001b[38;5;241m=\u001b[39m \u001b[43mtimer\u001b[49m\u001b[38;5;241;43m.\u001b[39;49m\u001b[43mtimeit\u001b[49m\u001b[43m(\u001b[49m\u001b[43mnumber\u001b[49m\u001b[43m)\u001b[49m\n\u001b[1;32m   1186\u001b[0m     \u001b[38;5;28;01mif\u001b[39;00m time_number \u001b[38;5;241m>\u001b[39m\u001b[38;5;241m=\u001b[39m \u001b[38;5;241m0.2\u001b[39m:\n\u001b[1;32m   1187\u001b[0m         \u001b[38;5;28;01mbreak\u001b[39;00m\n",
      "File \u001b[0;32m~/miniconda3/envs/grand/lib/python3.11/site-packages/IPython/core/magics/execution.py:173\u001b[0m, in \u001b[0;36mTimer.timeit\u001b[0;34m(self, number)\u001b[0m\n\u001b[1;32m    171\u001b[0m gc\u001b[38;5;241m.\u001b[39mdisable()\n\u001b[1;32m    172\u001b[0m \u001b[38;5;28;01mtry\u001b[39;00m:\n\u001b[0;32m--> 173\u001b[0m     timing \u001b[38;5;241m=\u001b[39m \u001b[38;5;28;43mself\u001b[39;49m\u001b[38;5;241;43m.\u001b[39;49m\u001b[43minner\u001b[49m\u001b[43m(\u001b[49m\u001b[43mit\u001b[49m\u001b[43m,\u001b[49m\u001b[43m \u001b[49m\u001b[38;5;28;43mself\u001b[39;49m\u001b[38;5;241;43m.\u001b[39;49m\u001b[43mtimer\u001b[49m\u001b[43m)\u001b[49m\n\u001b[1;32m    174\u001b[0m \u001b[38;5;28;01mfinally\u001b[39;00m:\n\u001b[1;32m    175\u001b[0m     \u001b[38;5;28;01mif\u001b[39;00m gcold:\n",
      "File \u001b[0;32m<magic-timeit>:1\u001b[0m, in \u001b[0;36minner\u001b[0;34m(_it, _timer)\u001b[0m\n",
      "File \u001b[0;32m~/miniconda3/envs/grand/lib/python3.11/site-packages/networkx/drawing/nx_pylab.py:123\u001b[0m, in \u001b[0;36mdraw\u001b[0;34m(G, pos, ax, **kwds)\u001b[0m\n\u001b[1;32m    120\u001b[0m \u001b[38;5;28;01mif\u001b[39;00m \u001b[38;5;124m\"\u001b[39m\u001b[38;5;124mwith_labels\u001b[39m\u001b[38;5;124m\"\u001b[39m \u001b[38;5;129;01mnot\u001b[39;00m \u001b[38;5;129;01min\u001b[39;00m kwds:\n\u001b[1;32m    121\u001b[0m     kwds[\u001b[38;5;124m\"\u001b[39m\u001b[38;5;124mwith_labels\u001b[39m\u001b[38;5;124m\"\u001b[39m] \u001b[38;5;241m=\u001b[39m \u001b[38;5;124m\"\u001b[39m\u001b[38;5;124mlabels\u001b[39m\u001b[38;5;124m\"\u001b[39m \u001b[38;5;129;01min\u001b[39;00m kwds\n\u001b[0;32m--> 123\u001b[0m \u001b[43mdraw_networkx\u001b[49m\u001b[43m(\u001b[49m\u001b[43mG\u001b[49m\u001b[43m,\u001b[49m\u001b[43m \u001b[49m\u001b[43mpos\u001b[49m\u001b[38;5;241;43m=\u001b[39;49m\u001b[43mpos\u001b[49m\u001b[43m,\u001b[49m\u001b[43m \u001b[49m\u001b[43max\u001b[49m\u001b[38;5;241;43m=\u001b[39;49m\u001b[43max\u001b[49m\u001b[43m,\u001b[49m\u001b[43m \u001b[49m\u001b[38;5;241;43m*\u001b[39;49m\u001b[38;5;241;43m*\u001b[39;49m\u001b[43mkwds\u001b[49m\u001b[43m)\u001b[49m\n\u001b[1;32m    124\u001b[0m ax\u001b[38;5;241m.\u001b[39mset_axis_off()\n\u001b[1;32m    125\u001b[0m plt\u001b[38;5;241m.\u001b[39mdraw_if_interactive()\n",
      "File \u001b[0;32m~/miniconda3/envs/grand/lib/python3.11/site-packages/networkx/drawing/nx_pylab.py:311\u001b[0m, in \u001b[0;36mdraw_networkx\u001b[0;34m(G, pos, arrows, with_labels, **kwds)\u001b[0m\n\u001b[1;32m    308\u001b[0m \u001b[38;5;28;01mif\u001b[39;00m pos \u001b[38;5;129;01mis\u001b[39;00m \u001b[38;5;28;01mNone\u001b[39;00m:\n\u001b[1;32m    309\u001b[0m     pos \u001b[38;5;241m=\u001b[39m nx\u001b[38;5;241m.\u001b[39mdrawing\u001b[38;5;241m.\u001b[39mspring_layout(G)  \u001b[38;5;66;03m# default to spring layout\u001b[39;00m\n\u001b[0;32m--> 311\u001b[0m \u001b[43mdraw_networkx_nodes\u001b[49m\u001b[43m(\u001b[49m\u001b[43mG\u001b[49m\u001b[43m,\u001b[49m\u001b[43m \u001b[49m\u001b[43mpos\u001b[49m\u001b[43m,\u001b[49m\u001b[43m \u001b[49m\u001b[38;5;241;43m*\u001b[39;49m\u001b[38;5;241;43m*\u001b[39;49m\u001b[43mnode_kwds\u001b[49m\u001b[43m)\u001b[49m\n\u001b[1;32m    312\u001b[0m draw_networkx_edges(G, pos, arrows\u001b[38;5;241m=\u001b[39marrows, \u001b[38;5;241m*\u001b[39m\u001b[38;5;241m*\u001b[39medge_kwds)\n\u001b[1;32m    313\u001b[0m \u001b[38;5;28;01mif\u001b[39;00m with_labels:\n",
      "File \u001b[0;32m~/miniconda3/envs/grand/lib/python3.11/site-packages/networkx/drawing/nx_pylab.py:450\u001b[0m, in \u001b[0;36mdraw_networkx_nodes\u001b[0;34m(G, pos, nodelist, node_size, node_color, node_shape, alpha, cmap, vmin, vmax, ax, linewidths, edgecolors, label, margins, hide_ticks)\u001b[0m\n\u001b[1;32m    447\u001b[0m     node_color \u001b[38;5;241m=\u001b[39m apply_alpha(node_color, alpha, nodelist, cmap, vmin, vmax)\n\u001b[1;32m    448\u001b[0m     alpha \u001b[38;5;241m=\u001b[39m \u001b[38;5;28;01mNone\u001b[39;00m\n\u001b[0;32m--> 450\u001b[0m node_collection \u001b[38;5;241m=\u001b[39m \u001b[43max\u001b[49m\u001b[38;5;241;43m.\u001b[39;49m\u001b[43mscatter\u001b[49m\u001b[43m(\u001b[49m\n\u001b[1;32m    451\u001b[0m \u001b[43m    \u001b[49m\u001b[43mxy\u001b[49m\u001b[43m[\u001b[49m\u001b[43m:\u001b[49m\u001b[43m,\u001b[49m\u001b[43m \u001b[49m\u001b[38;5;241;43m0\u001b[39;49m\u001b[43m]\u001b[49m\u001b[43m,\u001b[49m\n\u001b[1;32m    452\u001b[0m \u001b[43m    \u001b[49m\u001b[43mxy\u001b[49m\u001b[43m[\u001b[49m\u001b[43m:\u001b[49m\u001b[43m,\u001b[49m\u001b[43m \u001b[49m\u001b[38;5;241;43m1\u001b[39;49m\u001b[43m]\u001b[49m\u001b[43m,\u001b[49m\n\u001b[1;32m    453\u001b[0m \u001b[43m    \u001b[49m\u001b[43ms\u001b[49m\u001b[38;5;241;43m=\u001b[39;49m\u001b[43mnode_size\u001b[49m\u001b[43m,\u001b[49m\n\u001b[1;32m    454\u001b[0m \u001b[43m    \u001b[49m\u001b[43mc\u001b[49m\u001b[38;5;241;43m=\u001b[39;49m\u001b[43mnode_color\u001b[49m\u001b[43m,\u001b[49m\n\u001b[1;32m    455\u001b[0m \u001b[43m    \u001b[49m\u001b[43mmarker\u001b[49m\u001b[38;5;241;43m=\u001b[39;49m\u001b[43mnode_shape\u001b[49m\u001b[43m,\u001b[49m\n\u001b[1;32m    456\u001b[0m \u001b[43m    \u001b[49m\u001b[43mcmap\u001b[49m\u001b[38;5;241;43m=\u001b[39;49m\u001b[43mcmap\u001b[49m\u001b[43m,\u001b[49m\n\u001b[1;32m    457\u001b[0m \u001b[43m    \u001b[49m\u001b[43mvmin\u001b[49m\u001b[38;5;241;43m=\u001b[39;49m\u001b[43mvmin\u001b[49m\u001b[43m,\u001b[49m\n\u001b[1;32m    458\u001b[0m \u001b[43m    \u001b[49m\u001b[43mvmax\u001b[49m\u001b[38;5;241;43m=\u001b[39;49m\u001b[43mvmax\u001b[49m\u001b[43m,\u001b[49m\n\u001b[1;32m    459\u001b[0m \u001b[43m    \u001b[49m\u001b[43malpha\u001b[49m\u001b[38;5;241;43m=\u001b[39;49m\u001b[43malpha\u001b[49m\u001b[43m,\u001b[49m\n\u001b[1;32m    460\u001b[0m \u001b[43m    \u001b[49m\u001b[43mlinewidths\u001b[49m\u001b[38;5;241;43m=\u001b[39;49m\u001b[43mlinewidths\u001b[49m\u001b[43m,\u001b[49m\n\u001b[1;32m    461\u001b[0m \u001b[43m    \u001b[49m\u001b[43medgecolors\u001b[49m\u001b[38;5;241;43m=\u001b[39;49m\u001b[43medgecolors\u001b[49m\u001b[43m,\u001b[49m\n\u001b[1;32m    462\u001b[0m \u001b[43m    \u001b[49m\u001b[43mlabel\u001b[49m\u001b[38;5;241;43m=\u001b[39;49m\u001b[43mlabel\u001b[49m\u001b[43m,\u001b[49m\n\u001b[1;32m    463\u001b[0m \u001b[43m\u001b[49m\u001b[43m)\u001b[49m\n\u001b[1;32m    464\u001b[0m \u001b[38;5;28;01mif\u001b[39;00m hide_ticks:\n\u001b[1;32m    465\u001b[0m     ax\u001b[38;5;241m.\u001b[39mtick_params(\n\u001b[1;32m    466\u001b[0m         axis\u001b[38;5;241m=\u001b[39m\u001b[38;5;124m\"\u001b[39m\u001b[38;5;124mboth\u001b[39m\u001b[38;5;124m\"\u001b[39m,\n\u001b[1;32m    467\u001b[0m         which\u001b[38;5;241m=\u001b[39m\u001b[38;5;124m\"\u001b[39m\u001b[38;5;124mboth\u001b[39m\u001b[38;5;124m\"\u001b[39m,\n\u001b[0;32m   (...)\u001b[0m\n\u001b[1;32m    471\u001b[0m         labelleft\u001b[38;5;241m=\u001b[39m\u001b[38;5;28;01mFalse\u001b[39;00m,\n\u001b[1;32m    472\u001b[0m     )\n",
      "File \u001b[0;32m~/miniconda3/envs/grand/lib/python3.11/site-packages/matplotlib/__init__.py:1465\u001b[0m, in \u001b[0;36m_preprocess_data.<locals>.inner\u001b[0;34m(ax, data, *args, **kwargs)\u001b[0m\n\u001b[1;32m   1462\u001b[0m \u001b[38;5;129m@functools\u001b[39m\u001b[38;5;241m.\u001b[39mwraps(func)\n\u001b[1;32m   1463\u001b[0m \u001b[38;5;28;01mdef\u001b[39;00m \u001b[38;5;21minner\u001b[39m(ax, \u001b[38;5;241m*\u001b[39margs, data\u001b[38;5;241m=\u001b[39m\u001b[38;5;28;01mNone\u001b[39;00m, \u001b[38;5;241m*\u001b[39m\u001b[38;5;241m*\u001b[39mkwargs):\n\u001b[1;32m   1464\u001b[0m     \u001b[38;5;28;01mif\u001b[39;00m data \u001b[38;5;129;01mis\u001b[39;00m \u001b[38;5;28;01mNone\u001b[39;00m:\n\u001b[0;32m-> 1465\u001b[0m         \u001b[38;5;28;01mreturn\u001b[39;00m \u001b[43mfunc\u001b[49m\u001b[43m(\u001b[49m\u001b[43max\u001b[49m\u001b[43m,\u001b[49m\u001b[43m \u001b[49m\u001b[38;5;241;43m*\u001b[39;49m\u001b[38;5;28;43mmap\u001b[39;49m\u001b[43m(\u001b[49m\u001b[43msanitize_sequence\u001b[49m\u001b[43m,\u001b[49m\u001b[43m \u001b[49m\u001b[43margs\u001b[49m\u001b[43m)\u001b[49m\u001b[43m,\u001b[49m\u001b[43m \u001b[49m\u001b[38;5;241;43m*\u001b[39;49m\u001b[38;5;241;43m*\u001b[39;49m\u001b[43mkwargs\u001b[49m\u001b[43m)\u001b[49m\n\u001b[1;32m   1467\u001b[0m     bound \u001b[38;5;241m=\u001b[39m new_sig\u001b[38;5;241m.\u001b[39mbind(ax, \u001b[38;5;241m*\u001b[39margs, \u001b[38;5;241m*\u001b[39m\u001b[38;5;241m*\u001b[39mkwargs)\n\u001b[1;32m   1468\u001b[0m     auto_label \u001b[38;5;241m=\u001b[39m (bound\u001b[38;5;241m.\u001b[39marguments\u001b[38;5;241m.\u001b[39mget(label_namer)\n\u001b[1;32m   1469\u001b[0m                   \u001b[38;5;129;01mor\u001b[39;00m bound\u001b[38;5;241m.\u001b[39mkwargs\u001b[38;5;241m.\u001b[39mget(label_namer))\n",
      "File \u001b[0;32m~/miniconda3/envs/grand/lib/python3.11/site-packages/matplotlib/axes/_axes.py:4673\u001b[0m, in \u001b[0;36mAxes.scatter\u001b[0;34m(self, x, y, s, c, marker, cmap, norm, vmin, vmax, alpha, linewidths, edgecolors, plotnonfinite, **kwargs)\u001b[0m\n\u001b[1;32m   4670\u001b[0m \u001b[38;5;28;01mif\u001b[39;00m edgecolors \u001b[38;5;129;01mis\u001b[39;00m \u001b[38;5;28;01mNone\u001b[39;00m:\n\u001b[1;32m   4671\u001b[0m     orig_edgecolor \u001b[38;5;241m=\u001b[39m kwargs\u001b[38;5;241m.\u001b[39mget(\u001b[38;5;124m'\u001b[39m\u001b[38;5;124medgecolor\u001b[39m\u001b[38;5;124m'\u001b[39m, \u001b[38;5;28;01mNone\u001b[39;00m)\n\u001b[1;32m   4672\u001b[0m c, colors, edgecolors \u001b[38;5;241m=\u001b[39m \\\n\u001b[0;32m-> 4673\u001b[0m     \u001b[38;5;28;43mself\u001b[39;49m\u001b[38;5;241;43m.\u001b[39;49m\u001b[43m_parse_scatter_color_args\u001b[49m\u001b[43m(\u001b[49m\n\u001b[1;32m   4674\u001b[0m \u001b[43m        \u001b[49m\u001b[43mc\u001b[49m\u001b[43m,\u001b[49m\u001b[43m \u001b[49m\u001b[43medgecolors\u001b[49m\u001b[43m,\u001b[49m\u001b[43m \u001b[49m\u001b[43mkwargs\u001b[49m\u001b[43m,\u001b[49m\u001b[43m \u001b[49m\u001b[43mx\u001b[49m\u001b[38;5;241;43m.\u001b[39;49m\u001b[43msize\u001b[49m\u001b[43m,\u001b[49m\n\u001b[1;32m   4675\u001b[0m \u001b[43m        \u001b[49m\u001b[43mget_next_color_func\u001b[49m\u001b[38;5;241;43m=\u001b[39;49m\u001b[38;5;28;43mself\u001b[39;49m\u001b[38;5;241;43m.\u001b[39;49m\u001b[43m_get_patches_for_fill\u001b[49m\u001b[38;5;241;43m.\u001b[39;49m\u001b[43mget_next_color\u001b[49m\u001b[43m)\u001b[49m\n\u001b[1;32m   4677\u001b[0m \u001b[38;5;28;01mif\u001b[39;00m plotnonfinite \u001b[38;5;129;01mand\u001b[39;00m colors \u001b[38;5;129;01mis\u001b[39;00m \u001b[38;5;28;01mNone\u001b[39;00m:\n\u001b[1;32m   4678\u001b[0m     c \u001b[38;5;241m=\u001b[39m np\u001b[38;5;241m.\u001b[39mma\u001b[38;5;241m.\u001b[39mmasked_invalid(c)\n",
      "File \u001b[0;32m~/miniconda3/envs/grand/lib/python3.11/site-packages/matplotlib/axes/_axes.py:4458\u001b[0m, in \u001b[0;36mAxes._parse_scatter_color_args\u001b[0;34m(c, edgecolors, kwargs, xsize, get_next_color_func)\u001b[0m\n\u001b[1;32m   4456\u001b[0m \u001b[38;5;28;01mif\u001b[39;00m \u001b[38;5;129;01mnot\u001b[39;00m c_was_none \u001b[38;5;129;01mand\u001b[39;00m kwcolor \u001b[38;5;129;01mis\u001b[39;00m \u001b[38;5;28;01mNone\u001b[39;00m \u001b[38;5;129;01mand\u001b[39;00m \u001b[38;5;129;01mnot\u001b[39;00m c_is_string_or_strings:\n\u001b[1;32m   4457\u001b[0m     \u001b[38;5;28;01mtry\u001b[39;00m:  \u001b[38;5;66;03m# First, does 'c' look suitable for value-mapping?\u001b[39;00m\n\u001b[0;32m-> 4458\u001b[0m         c \u001b[38;5;241m=\u001b[39m \u001b[43mnp\u001b[49m\u001b[38;5;241;43m.\u001b[39;49m\u001b[43masanyarray\u001b[49m\u001b[43m(\u001b[49m\u001b[43mc\u001b[49m\u001b[43m,\u001b[49m\u001b[43m \u001b[49m\u001b[43mdtype\u001b[49m\u001b[38;5;241;43m=\u001b[39;49m\u001b[38;5;28;43mfloat\u001b[39;49m\u001b[43m)\u001b[49m\n\u001b[1;32m   4459\u001b[0m     \u001b[38;5;28;01mexcept\u001b[39;00m \u001b[38;5;167;01mValueError\u001b[39;00m:\n\u001b[1;32m   4460\u001b[0m         \u001b[38;5;28;01mpass\u001b[39;00m  \u001b[38;5;66;03m# Failed to convert to float array; must be color specs.\u001b[39;00m\n",
      "File \u001b[0;32m~/miniconda3/envs/grand/lib/python3.11/site-packages/torch/_tensor.py:1064\u001b[0m, in \u001b[0;36mTensor.__array__\u001b[0;34m(self, dtype)\u001b[0m\n\u001b[1;32m   1062\u001b[0m     \u001b[38;5;28;01mreturn\u001b[39;00m \u001b[38;5;28mself\u001b[39m\u001b[38;5;241m.\u001b[39mnumpy()\n\u001b[1;32m   1063\u001b[0m \u001b[38;5;28;01melse\u001b[39;00m:\n\u001b[0;32m-> 1064\u001b[0m     \u001b[38;5;28;01mreturn\u001b[39;00m \u001b[38;5;28;43mself\u001b[39;49m\u001b[38;5;241;43m.\u001b[39;49m\u001b[43mnumpy\u001b[49m\u001b[43m(\u001b[49m\u001b[43m)\u001b[49m\u001b[38;5;241m.\u001b[39mastype(dtype, copy\u001b[38;5;241m=\u001b[39m\u001b[38;5;28;01mFalse\u001b[39;00m)\n",
      "\u001b[0;31mTypeError\u001b[0m: can't convert cuda:0 device type tensor to numpy. Use Tensor.cpu() to copy the tensor to host memory first."
     ]
    },
    {
     "data": {
      "image/png": "[encoded data removed]",
      "text/plain": [
       "<Figure size 640x480 with 1 Axes>"
      ]
     },
     "metadata": {},
     "output_type": "display_data"
    }
   ],
   "source": [
    "%%timeit\n",
    "nx.draw(g0, with_labels=False, font_weight='bold', node_size=5, node_color=labels[cc_idx])"
   ]
  },
  {
   "cell_type": "code",
   "execution_count": null,
   "metadata": {},
   "outputs": [],
   "source": [
    "plt.savefig(\"path.png\")"
   ]
  }
 ],
 "metadata": {
  "kernelspec": {
   "display_name": "grand",
   "language": "python",
   "name": "python3"
  },
  "language_info": {
   "codemirror_mode": {
    "name": "ipython",
    "version": 3
   },
   "file_extension": ".py",
   "mimetype": "text/x-python",
   "name": "python",
   "nbconvert_exporter": "python",
   "pygments_lexer": "ipython3",
   "version": "3.11.0"
  }
 },
 "nbformat": 4,
 "nbformat_minor": 4
}
